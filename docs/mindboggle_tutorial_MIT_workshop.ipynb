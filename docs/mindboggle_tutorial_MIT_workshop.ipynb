{
 "cells": [
  {
   "cell_type": "markdown",
   "metadata": {
    "deletable": true,
    "editable": true
   },
   "source": [
    "## Update the Docker file\n",
    "\n",
    "Create a new file called Docker.mindboggle.new\n",
    "\n",
    "```\n",
    "FROM nipype/workshops:latest-complete\n",
    "WORKDIR /home/jovyan/work\n",
    "RUN conda install -y flask\n",
    "RUN git clone https://github.com/nipy/mindboggle && cd mindboggle && python setup.py install\n",
    "RUN git clone https://github.com/akeshavan/roygbiv && cd roygbiv && python setup.py install\n",
    "RUN git clone https://github.com/akeshavan/nbpapaya && cd nbpapaya && git submodule update --init --recursive && python setup.py install\n",
    "RUN mkdir /home/jovyan/data_mb && cd /home/jovyan/data_mb && curl -sSL https://osf.io/svxht/?action=download | tar xzf - -C /home/jovyan/data_mb --strip-components=2\n",
    "```\n",
    "\n",
    "### Build the docker\n",
    "\n",
    "```\n",
    "docker build -t nipypeshop_plus -f Docker.mindboggle.new .\n",
    "```\n",
    "\n",
    "### Start the docker\n",
    "\n",
    "```\n",
    "cd /path/to/workshop/\n",
    "docker run -ti -v $PWD:/home/jovyan/work -p 9876:8888 -p 5000:5000 nipypeshop_plus bash\n",
    "```\n",
    "\n",
    "## Datalad\n",
    "\n",
    "If you don't have the raw data downloaded, and want to run mindboggle, do the following:\n",
    "\n",
    "```\n",
    "cd /home/jovyan/work/data/ds000114\n",
    "git remote add datasets http://datasets.datalad.org/workshops/nipype-2017/ds000114/.git\n",
    "datalad get . \n",
    "```\n",
    "\n",
    "## Try running the roygbiv webapp\n",
    "\n",
    "```\n",
    "cd ~/work\n",
    "roygbiv /home/jovyan/data_mb/mindboggled/mindboggled_subjects_nipype_workshop_MIT_2017/sub-01\n",
    "\n",
    "```\n",
    "\n",
    "on your **chrome** browser, navigate to `localhost:5000`\n",
    "\n",
    "## View this notebook in a browser\n",
    "\n",
    "### Clone mindboggle directory\n",
    "\n",
    "```\n",
    "cd ~/work\n",
    "git clone https://github.com/nipy/mindboggle\n",
    "```\n",
    "\n",
    "### Change directory to mindboggle/docs and start the notebook\n",
    "\n",
    "```\n",
    "cd mindboggle/docs\n",
    "jupyter notebook\n",
    "```\n"
   ]
  },
  {
   "cell_type": "markdown",
   "metadata": {
    "deletable": true,
    "editable": true
   },
   "source": [
    "<br><br><br>"
   ]
  },
  {
   "cell_type": "markdown",
   "metadata": {
    "deletable": true,
    "editable": true
   },
   "source": [
    "<img align=\"left\" style=\"padding-right:10px; width:150px;\" src=\"https://mfr.osf.io/export?url=https://osf.io/q7ym9/?action=download%26direct%26mode=render&initialWidth=673&childId=mfrIframe&format=1200x1200.jpeg\">\n",
    "<font size=\"1\">\n",
    "This [Mindboggle](http://mindboggle.info) tutorial is a jupyter notebook that runs in a docker container:\n",
    "<br>\n",
    "*\n",
    "&nbsp;&nbsp;``$ docker run -it --rm -p 8888:8888 -v /Users/arno/Data/workshops:/home/jovyan/work nipype/workshops:latest-complete bash``<br>\n",
    "&nbsp;&nbsp;``$ git clone https://github.com/nipy/mindboggle.git; cd mindboggle; python setup.py install; cd ..;``<br>\n",
    "&nbsp;&nbsp;``$ jupyter notebook``<br>\n",
    "&nbsp;&nbsp;-- <a href=\"http://binarybottle.com\">Arno Klein</a> and Anisha Keshavan (please refer to the [Mindboggle reference](http://journals.plos.org/ploscompbiol/article?id=10.1371/journal.pcbi.1005350#sec007))*\n",
    "</font>"
   ]
  },
  {
   "cell_type": "markdown",
   "metadata": {
    "deletable": true,
    "editable": true
   },
   "source": [
    "# Mindboggle tutorial\n",
    "\n",
    "1. [Introduction](#introduction)\n",
    "2. [Mindboggle processing steps](#processing)\n",
    "3. [Run \"mindboggle --help\" on the command line](#help)\n",
    "4. [Mindboggle on the command line](#command)\n",
    "5. [Mindboggle Python library](#library)\n",
    "6. Run individual functions:\n",
    "   - [Example 1: Compute histogram values from a nibabel-readable image](#example1)\n",
    "   - [Example 2: Compute statistical measures across vertices per label](#example2)\n",
    "   - [Example 3: Decimate a left postcentral pial surface](#example3)\n",
    "   - [Example 4: Relabel a VTK surface](#example4)\n",
    "   - [Example 5: Segment deep vertices of surface into contiguous regions](#example5)\n",
    "   - [Example 6: Extract sulcus label borders](#example6)"
   ]
  },
  {
   "cell_type": "markdown",
   "metadata": {
    "deletable": true,
    "editable": true
   },
   "source": [
    "<a id=\"introduction\"></a>\n",
    "\n",
    "# Introduction\n",
    "<br>\n",
    "<br>\n",
    "<br>\n",
    "<br>"
   ]
  },
  {
   "cell_type": "markdown",
   "metadata": {
    "deletable": true,
    "editable": true
   },
   "source": [
    "<a id=\"processing\"></a>\n",
    "\n",
    "# Mindboggle processing steps\n",
    "\n",
    "<img style=\"padding-right:10px;\" src=\"https://mfr.osf.io/export?url=https://osf.io/dcuh8/?action=download%26direct%26mode=render&initialWidth=673&childId=mfrIframe&format=1200x1200.jpeg\">\n",
    "\n",
    "## Output\n",
    "Mindboggle takes in (FreeSurfer- and optionally ANTs-) preprocessed T1-weighted MRI data, and outputs nifti volumes, vtk surfaces, and csv tables containing label, feature, and shape information for further analysis:\n",
    "\n",
    "- **labels/**:  *integer-labeled vtk surfaces and nifti volumes*\n",
    "- **features/**:  *integer-labeled sulci or fundi on vtk surfaces*\n",
    "- **shapes/**:  *float shape value for every point on vtk surfaces*\n",
    "- **tables/**:  *csv tables of shape values for every label/feature/vertex*"
   ]
  },
  {
   "cell_type": "markdown",
   "metadata": {
    "deletable": true,
    "editable": true
   },
   "source": [
    "<br>\n",
    "## Processing steps\n",
    "\n",
    "### 1. Combine FreeSurfer and ANTs gray/white segmentations:\n",
    "<br>\n",
    "<img style=\"padding-right:10px; width:600px;\" src=\"https://mfr.osf.io/export?url=https://osf.io/k5kr8/?action=download%26direct%26mode=render&initialWidth=673&childId=mfrIframe&format=1200x1200.jpeg\">\n",
    "<br>"
   ]
  },
  {
   "cell_type": "markdown",
   "metadata": {
    "deletable": true,
    "editable": true
   },
   "source": [
    "<br>\n",
    "### 2. Fill hybrid segmentation with (FreeSurfer- or ANTs-registered) labels.\n",
    "### 3. Compute volume shape measures for each labeled region:\n",
    "&nbsp;&nbsp;&nbsp;&nbsp;&nbsp;&nbsp;&nbsp;&nbsp;\n",
    "<b>volume and \"thickinthehead\" (cortical thickness)</b>\n",
    "<br>\n",
    "<img style=\"padding-right:10px; width:600px;\" src=\"https://mfr.osf.io/export?url=https://osf.io/n5hvx/?action=download%26direct%26mode=render&initialWidth=673&childId=mfrIframe&format=1200x1200.jpeg\">\n",
    "<br>"
   ]
  },
  {
   "cell_type": "markdown",
   "metadata": {
    "deletable": true,
    "editable": true
   },
   "source": [
    "<br>\n",
    "### 4. Compute surface shape measures for every cortical mesh vertex\n",
    "&nbsp;&nbsp;&nbsp;&nbsp;&nbsp;&nbsp;&nbsp;&nbsp;\n",
    "<b>surface area</b>\n",
    "<br>\n",
    "<img style=\"padding-right:10px; width:600px;\" src=\"https://mfr.osf.io/export?url=https://osf.io/6varh/?action=download%26direct%26mode=render&initialWidth=673&childId=mfrIframe&format=1200x1200.jpeg\">\n",
    "<br>"
   ]
  },
  {
   "cell_type": "markdown",
   "metadata": {
    "deletable": true,
    "editable": true
   },
   "source": [
    "<br>\n",
    "&nbsp;&nbsp;&nbsp;&nbsp;&nbsp;&nbsp;&nbsp;&nbsp;\n",
    "<b>geodesic depth and travel depth</b>\n",
    "<br>\n",
    "<img style=\"padding-right:10px; width:600px;\" src=\"https://mfr.osf.io/export?url=https://osf.io/uv9u6/?action=download%26direct%26mode=render&initialWidth=673&childId=mfrIframe&format=1200x1200.jpeg\">\n",
    "<br>"
   ]
  },
  {
   "cell_type": "markdown",
   "metadata": {
    "deletable": true,
    "editable": true
   },
   "source": [
    "<br>\n",
    "&nbsp;&nbsp;&nbsp;&nbsp;&nbsp;&nbsp;&nbsp;&nbsp;\n",
    "<b>mean curvature</b>\n",
    "<br>\n",
    "<img style=\"padding-right:10px; width:600px;\" src=\"https://mfr.osf.io/export?url=https://osf.io/v7v2u/?action=download%26direct%26mode=render&initialWidth=673&childId=mfrIframe&format=1200x1200.jpeg\">\n",
    "<br>"
   ]
  },
  {
   "cell_type": "markdown",
   "metadata": {
    "deletable": true,
    "editable": true
   },
   "source": [
    "<br>\n",
    "### 5. Extract cortical surface features:\n",
    "&nbsp;&nbsp;&nbsp;&nbsp;&nbsp;&nbsp;&nbsp;&nbsp;\n",
    "<b>folds</b> (left and upper right, with manual labels) \n",
    "<br>\n",
    "&nbsp;&nbsp;&nbsp;&nbsp;&nbsp;&nbsp;&nbsp;&nbsp;\n",
    "<b>sulci</b> (lower right)\n",
    "<br>\n",
    "<img style=\"padding-right:10px; width:600px;\" src=\"https://mfr.osf.io/export?url=https://osf.io/jq828/?action=download%26direct%26mode=render&initialWidth=673&childId=mfrIframe&format=1200x1200.jpeg\">\n",
    "\n",
    "&nbsp;&nbsp;&nbsp;&nbsp;&nbsp;&nbsp;&nbsp;&nbsp;\n",
    "<b>fundi</b> (right)\n",
    "<img style=\"padding-right:10px; width:300px;\" src=\"https://mfr.osf.io/export?url=https://osf.io/27pjt/?action=download%26direct%26mode=render&initialWidth=673&childId=mfrIframe&format=1200x1200.jpeg\">\n",
    "<br>"
   ]
  },
  {
   "cell_type": "markdown",
   "metadata": {
    "deletable": true,
    "editable": true
   },
   "source": [
    "<br>\n",
    "### 6. For each cortical surface label/sulcus, compute:\n",
    "&nbsp;&nbsp;&nbsp;&nbsp;&nbsp;&nbsp;&nbsp;&nbsp;\n",
    "<b>Zernike moments</b>\n",
    "<br>\n",
    "&nbsp;&nbsp;&nbsp;&nbsp;&nbsp;&nbsp;&nbsp;&nbsp;\n",
    "<b>Laplace-Beltrami spectrum</b> (2nd, 3rd, and 9th spectral components shown for two brains):\n",
    "<br>\n",
    "<br>\n",
    "<img style=\"padding-right:10px; width:600px;\" src=\"https://mfr.osf.io/export?url=https://osf.io/zhbvy/?action=download%26direct%26mode=render&initialWidth=673&childId=mfrIframe&format=1200x1200.jpeg\">  \n",
    "<br>"
   ]
  },
  {
   "cell_type": "markdown",
   "metadata": {
    "deletable": true,
    "editable": true
   },
   "source": [
    "<br>\n",
    "### 7. Compute statistics for each shape measure across vertices for each label/feature:\n",
    "    - median\n",
    "    - median absolute deviation\n",
    "    - mean\n",
    "    - standard deviation\n",
    "    - skew\n",
    "    - kurtosis\n",
    "    - lower and upper quartiles\n",
    "<br>"
   ]
  },
  {
   "cell_type": "markdown",
   "metadata": {
    "deletable": true,
    "editable": true
   },
   "source": [
    "<a id=\"help\"></a>\n",
    "\n",
    "# Run \"mindboggle --help\" on the command line\n",
    "\n",
    "First, let's see what command-line options Mindboggle provides:"
   ]
  },
  {
   "cell_type": "code",
   "execution_count": 18,
   "metadata": {
    "collapsed": false,
    "deletable": true,
    "editable": true,
    "scrolled": false
   },
   "outputs": [
    {
     "name": "stdout",
     "output_type": "stream",
     "text": [
      "usage: mindboggle [-h] [-v] [-c INT] [--ants STR] [--out STR] [--working STR]\r\n",
      "                  [--cache STR] [--no_volumes] [--no_surfaces] [--no_labels]\r\n",
      "                  [--no_shapes] [--no_sulci] [--no_points] [--no_moments]\r\n",
      "                  [--no_spectra] [--no_thickness] [--fundi] [--moments INT]\r\n",
      "                  [--spectra INT] [--my_atlas STR] [--my_atlases  [...]]\r\n",
      "                  [--my_graywhite STR] [--my_transform STR] [--graph STR]\r\n",
      "                  [--roygbiv] [--plugin PLUGIN] [--plugin_args PLUGIN_ARGS]\r\n",
      "                  DATA\r\n",
      "\r\n",
      "The Mindboggle software automates shape analysis of anatomical labels and\r\n",
      "features extracted from human brain MR image data (http://mindboggle.info).\r\n",
      "Example: mindboggle $HOME/freesurfer/subjects/arno --ants\r\n",
      "$HOME/ants/subjects/arno/antsBrainSegmentation.nii.gz\r\n",
      "\r\n",
      "positional arguments:\r\n",
      "  DATA                       path to directory of a person's brain data,\r\n",
      "                             usually generated by the FreeSurfer software\r\n",
      "\r\n",
      "optional arguments:\r\n",
      "  -h, --help                 show this help message and exit\r\n",
      "  -v, --version              show mindboggle version number\r\n",
      "  -c INT, --cpus INT         number of processors to use (1)\r\n",
      "\r\n",
      "recommended arguments:\r\n",
      "  --ants STR                 path to brain segmentation file (ex:\r\n",
      "                             /data/arno/antsBrainSegmentation.nii.gz)\r\n",
      "                             generated by antsCorticalThickness.sh command\r\n",
      "                             (transforms are accessed from same directory)\r\n",
      "\r\n",
      "modify outputs:\r\n",
      "  --out STR                  output folder (if not $HOME/mindboggled)\r\n",
      "  --working STR              working folder (if not $HOME/mindboggling)\r\n",
      "  --cache STR                download folder (if not $HOME/mindboggle_cache)\r\n",
      "  --no_volumes               no volume labels, features, or shape tables\r\n",
      "  --no_surfaces              no surface labels, features, or shape tables\r\n",
      "  --no_labels                no surface or volume labels\r\n",
      "  --no_shapes                no surface or volume shape measures\r\n",
      "  --no_sulci                 no sulci from labeled folds\r\n",
      "  --no_points                no table of per-vertex surface shape measures\r\n",
      "  --no_moments               no Zernike moments per surface label or sulcus\r\n",
      "  --no_spectra               no Laplace-Beltrami per surface label or sulcus\r\n",
      "  --no_thickness             no volume-based cortical label thicknesses\r\n",
      "\r\n",
      "advanced settings:\r\n",
      "  --fundi                    extract, measure fundi (under evaluation, SLOW)\r\n",
      "  --moments INT              reset order of Zernike moments (10)\r\n",
      "  --spectra INT              reset number of Laplace-Beltrami eigenvalues (10)\r\n",
      "  --my_atlas STR             new atlas, same labels, in MNI space (with\r\n",
      "                             corresponding template if --ants is set)\r\n",
      "  --my_atlases  [ ...]       extra atlas(es) in MNI space with label numbers\r\n",
      "                             from return_numbers_names_colors()\r\n",
      "  --my_graywhite STR         new gray/white matter file (ex: edited Mindboggle\r\n",
      "                             output); still call --ants for transforms\r\n",
      "  --my_transform STR         different ITK affine transform to MNI space (if\r\n",
      "                             different template used to get --ants output)\r\n",
      "  --graph STR                plot workflow: \"hier\", \"exec\" (need graphviz)\r\n",
      "  --roygbiv                  prepare data for visualization with ROYGBIV\r\n",
      "  --plugin PLUGIN            nipype plugin (see nipype documentation)\r\n",
      "  --plugin_args PLUGIN_ARGS  plugin arguments (see nipype documentation)\r\n"
     ]
    }
   ],
   "source": [
    "! mindboggle --help"
   ]
  },
  {
   "cell_type": "markdown",
   "metadata": {
    "deletable": true,
    "editable": true
   },
   "source": [
    "<a id=\"command\"></a>\n",
    "\n",
    "# Mindboggle on the command line\n",
    "\n",
    "In the following command, computes shape measures for cortical surface labels and sulci Mindboggle takes FreeSurfer (but not ANTs) data.\n",
    "\n",
    "mindboggle /home/jovyan/work/data/ds000114/derivatives/freesurfer/sub-01 \\\n",
    " --working /home/jovyan/work/data/mindboggling \n",
    " --out /home/jovyan/work/data/mindboggled \\\n",
    " --roygbiv"
   ]
  },
  {
   "cell_type": "markdown",
   "metadata": {
    "deletable": true,
    "editable": true
   },
   "source": [
    "<a id=\"library\"></a>\n",
    "\n",
    "# Mindboggle Python library\n",
    "\n",
    "Rather than call Mindboggle from the command line, we can also call individual Python functions within the Mindboggle library, which includes the following files in mindboggle/mindboggle/:\n",
    "\n",
    "- **mio**/  *-- input/output functions*\n",
    "    - **[colors](https://github.com/nipy/mindboggle/blob/master/mindboggle/mio/colors.py)**.py  *-- colormap-related functions*\n",
    "    - **[convert_volumes](https://github.com/nipy/mindboggle/blob/master/mindboggle/mio/convert_volumes.py)**.py  *-- read/write nifti volume files*\n",
    "    - **[fetch_data](https://github.com/nipy/mindboggle/blob/master/mindboggle/mio/fetch_data.py)**.py  *-- fetch data from a URL or from third party software*\n",
    "    - **[labels](https://github.com/nipy/mindboggle/blob/master/mindboggle/mio/labels.py)**.py  *-- information about labeling protocols*\n",
    "    - **[plots](https://github.com/nipy/mindboggle/blob/master/mindboggle/mio/plots.py)**.py  *-- plot functions*\n",
    "    - **[tables](https://github.com/nipy/mindboggle/blob/master/mindboggle/mio/tables.py)**.py  *-- read/write tables*\n",
    "    - **[vtks](https://github.com/nipy/mindboggle/blob/master/mindboggle/mio/vtks.py)**.py  *-- read/write VTK surface files*\n",
    "- **guts**/  *-- the \"guts\" underlying feature extraction and labeling code*\n",
    "    - **[compute](https://github.com/nipy/mindboggle/blob/master/mindboggle/guts/compute.py)**.py  *-- compute distances, etc.*\n",
    "    - **[graph](https://github.com/nipy/mindboggle/blob/master/mindboggle/guts/graph.py)**.py  *-- graph operations*\n",
    "    - **[kernels](https://github.com/nipy/mindboggle/blob/master/mindboggle/guts/kernels.py)**.py  *-- kernels for graph operations*\n",
    "    - **[mesh](https://github.com/nipy/mindboggle/blob/master/mindboggle/guts/mesh.py)**.py  *-- operate on surface mesh vertices*\n",
    "    - **[paths](https://github.com/nipy/mindboggle/blob/master/mindboggle/guts/paths.py)**.py  *-- connect surface mesh vertices*\n",
    "    - **[rebound](https://github.com/nipy/mindboggle/blob/master/mindboggle/guts/rebound.py)**.py  *-- adjust label borders on a surface mesh*\n",
    "    - **[relabel](https://github.com/nipy/mindboggle/blob/master/mindboggle/guts/relabel.py)**.py  *-- relabel surface or volume files*\n",
    "    - **[segment](https://github.com/nipy/mindboggle/blob/master/mindboggle/guts/segment.py)**.py  *-- segment a surface mesh*\n",
    "- **shapes**/  *-- shape measurement functions\n",
    "    - **[surface_shapes](https://github.com/nipy/mindboggle/blob/master/mindboggle/shapes/surface_shapes.py)**.py  *-- compute surface shapes (calls C++ library below)*\n",
    "    - **[volume_shapes](https://github.com/nipy/mindboggle/blob/master/mindboggle/shapes/volume_shapes.py)**.py  *-- compute volumes and thicknesses*\n",
    "    - **[laplace_beltrami](https://github.com/nipy/mindboggle/blob/master/mindboggle/shapes/laplace_beltrami.py)**.py  *-- compute a Laplace-Beltrami spectrum*\n",
    "    - **[zernike/zernike](https://github.com/nipy/mindboggle/blob/master/mindboggle/shapes/zernike/zernike.py)**.py  *-- compute Zernike moments of a collection of vertices*\n",
    "    - **[likelihood](https://github.com/nipy/mindboggle/blob/master/mindboggle/shapes/likelihood.py)**.py  *-- compute (fundus) likelihood values*\n",
    "- **features**/  *-- higher-level feature extraction (folds, fundi, sulci)*\n",
    "    - **[folds](https://github.com/nipy/mindboggle/blob/master/mindboggle/features/folds.py)**.py  *-- extract surface folds*\n",
    "    - **[fundi](https://github.com/nipy/mindboggle/blob/master/mindboggle/features/fundi.py)**.py  *-- extract fundus curves from folds*\n",
    "    - **[sulci](https://github.com/nipy/mindboggle/blob/master/mindboggle/features/sulci.py)**.py  *-- extract sulci from folds*\n",
    "\n",
    "<!--\n",
    "    - **thirdparty/**  *-- third-party code*\n",
    "    - **[ants](https://github.com/nipy/mindboggle/blob/master/mindboggle/thirdparty/ants.py)**.py  *-- call ANTs commands*\n",
    "    - **[vtkviewer](https://github.com/nipy/mindboggle/blob/master/mindboggle/thirdparty/vtkviewer.py)**.py  *-- VTK viewer (by Hal Canary)*\n",
    "  - mindboggle/vtk_cpp_tools  *-- C++ tools for measuring shapes on VTK surface files*\n",
    "    - **[area](https://github.com/nipy/mindboggle/blob/master/vtk_cpp_tools/area/PointAreaMain.cpp)**/\n",
    "    - **[curvature](https://github.com/nipy/mindboggle/blob/master/vtk_cpp_tools/curvature/CurvatureMain.cpp)**/\n",
    "    - **[geodesic_depth](https://github.com/nipy/mindboggle/blob/master/vtk_cpp_tools/geodesic_depth/GeodesicDepthMain.cpp)**/\n",
    "    - **[travel_depth](https://github.com/nipy/mindboggle/tree/master/vtk_cpp_tools/travel_depth)**/\n",
    "    - **[gradient](https://github.com/nipy/mindboggle/blob/master/vtk_cpp_tools/gradient/GradientMain.cpp)**/\n",
    "    - **[surface_overlap](https://github.com/nipy/mindboggle/blob/master/vtk_cpp_tools/surface_overlap/SurfaceOverlapMain.cpp)**/\n",
    "-->\n",
    "<br>\n",
    "<br>"
   ]
  },
  {
   "cell_type": "markdown",
   "metadata": {
    "collapsed": true,
    "deletable": true,
    "editable": true
   },
   "source": [
    "<a id=\"functions\"></a>\n",
    "\n",
    "# Run individual functions\n",
    "\n",
    "Let's run some functions within Mindboggle's Python library.  The following examples are adapted from the above files' docstrings.\n",
    "\n",
    "## Example 1: Measure depth in a superior frontal gyrus\n",
    "### Measure travel depth for every vertex of a brain's left hemisphere\n",
    "Convert a FreeSurfer surface file to VTK format:"
   ]
  },
  {
   "cell_type": "code",
   "execution_count": 12,
   "metadata": {
    "collapsed": false,
    "deletable": true,
    "editable": true
   },
   "outputs": [],
   "source": [
    "from mindboggle.mio.vtks import freesurfer_surface_to_vtk\n",
    "subject_path = '/home/jovyan/work/data/ds000114/derivatives/freesurfer/sub-01/'\n",
    "surface_file = freesurfer_surface_to_vtk(surface_file=subject_path + 'surf/lh.pial', \n",
    "                                         orig_file=subject_path + 'mri/orig.mgz',\n",
    "                                         output_vtk='lh.pial.vtk')"
   ]
  },
  {
   "cell_type": "markdown",
   "metadata": {
    "deletable": true,
    "editable": true
   },
   "source": [
    "Compute travel_depth for every vertex of the mesh in the VTK file:"
   ]
  },
  {
   "cell_type": "code",
   "execution_count": 13,
   "metadata": {
    "collapsed": false,
    "deletable": true,
    "editable": true
   },
   "outputs": [
    {
     "name": "stdout",
     "output_type": "stream",
     "text": [
      "/opt/mindboggle/vtk_cpp_tools/travel_depth/TravelDepthMain lh.pial.vtk /home/jovyan/work/mindboggle/docs/lh.pial.travel_depth.vtk\n",

      "170330-04:39:05,439 interface INFO:\n",
      "\t stdout 2017-03-30T04:39:05.439150:Euclidean depth allocated for visible points\n",
      "170330-04:39:05,440 interface INFO:\n",
      "\t stdout 2017-03-30T04:39:05.439150:Geodesic propagation 1\n",
      "170330-04:39:06,455 interface INFO:\n",
      "\t stdout 2017-03-30T04:39:06.455203:Euclidean propagation 1\n",
      "170330-04:39:06,958 interface INFO:\n",
      "\t stdout 2017-03-30T04:39:06.958125:Geodesic propagation 2\n",
      "170330-04:39:09,509 interface INFO:\n",
      "\t stdout 2017-03-30T04:39:09.509702:Euclidean propagation 2\n",
      "170330-04:39:10,13 interface INFO:\n",
      "\t stdout 2017-03-30T04:39:10.013681:Geodesic propagation 3\n",
      "170330-04:39:12,54 interface INFO:\n",
      "\t stdout 2017-03-30T04:39:12.054087:Euclidean propagation 3\n",
      "170330-04:39:12,556 interface INFO:\n",
      "\t stdout 2017-03-30T04:39:12.556539:Geodesic propagation 4\n",
      "170330-04:39:14,595 interface INFO:\n",
      "\t stdout 2017-03-30T04:39:14.594887:Euclidean propagation 4\n",
      "170330-04:39:15,98 interface INFO:\n",
      "\t stdout 2017-03-30T04:39:15.098003:Geodesic propagation 5\n",
      "170330-04:39:17,139 interface INFO:\n",
      "\t stdout 2017-03-30T04:39:17.139313:Euclidean propagation 5\n",
      "170330-04:39:17,642 interface INFO:\n",
      "\t stdout 2017-03-30T04:39:17.642782:Geodesic propagation 6\n",
      "170330-04:39:19,683 interface INFO:\n",
      "\t stdout 2017-03-30T04:39:19.683743:Euclidean propagation 6\n",
      "170330-04:39:20,186 interface INFO:\n",
      "\t stdout 2017-03-30T04:39:20.186042:Geodesic propagation 7\n",
      "170330-04:39:22,224 interface INFO:\n",
      "\t stdout 2017-03-30T04:39:22.224249:Euclidean propagation 7\n",
      "170330-04:39:22,727 interface INFO:\n",
      "\t stdout 2017-03-30T04:39:22.727251:Travel depth main computation done\n",
      "170330-04:39:24,255 interface INFO:\n",
      "\t stdout 2017-03-30T04:39:24.255475:last propagation done\n",
      "170330-04:39:24,256 interface INFO:\n",
      "\t stdout 2017-03-30T04:39:24.255475:Travel depth computed\n",
      "170330-04:39:25,275 interface INFO:\n",
      "\t stdout 2017-03-30T04:39:25.275000:vtk file written\n",
      "170330-04:39:25,276 interface INFO:\n",
      "\t stdout 2017-03-30T04:39:25.275000:Elapsed time (meshTest): 25 s\n"

     ]
    }
   ],
   "source": [
    "import os\n",
    "from mindboggle.shapes.surface_shapes import travel_depth\n",
    "from mindboggle.mio.vtks import read_scalars\n",
    "ccode_path = '/opt/mindboggle/vtk_cpp_tools'\n",
    "command = os.path.join(ccode_path, 'travel_depth', 'TravelDepthMain')\n",
    "depth_file = travel_depth(command=command,\n",
    "                          surface_file=surface_file,\n",
    "                          verbose=True)\n",
    "depths, name = read_scalars(depth_file)"
   ]
  },
  {
   "cell_type": "markdown",
   "metadata": {
    "deletable": true,
    "editable": true
   },
   "source": [

    "Plot a histogram of the depth values:"
   ]
  },
  {
   "cell_type": "code",
   "execution_count": 3,
   "metadata": {
    "collapsed": false,
    "deletable": true,
    "editable": true
   },
   "outputs": [
    {
     "data": {
      "image/png": "[encoded data removed]",
      "text/plain": [
       "<matplotlib.figure.Figure at 0x7fa02991fd68>"
      ]
     },
     "metadata": {},
     "output_type": "display_data"
    }
   ],
   "source": [
    "from mindboggle.mio.plots import histograms_of_lists\n",
    "histograms_of_lists(columns=[depths],\n",
    "                    column_name='Depth values',\n",
    "                    ignore_columns=[],\n",
    "                    nbins=100,\n",
    "                    axis_limits=[],\n",
    "                    titles='depth values')"
   ]
  },
  {
   "cell_type": "markdown",
   "metadata": {
    "deletable": true,
    "editable": true
   },
   "source": [

    "Plot the depth values in 3-D:"
   ]
  },
  {
   "cell_type": "code",

   "execution_count": 15,

   "metadata": {
    "collapsed": true,
    "deletable": true,
    "editable": true
   },
   "outputs": [],
   "source": [
    "from nbpapaya import Overlay\n",
    "import os"
   ]
  },
  {
   "cell_type": "code",
   "execution_count": 16,
   "metadata": {
    "collapsed": true,
    "deletable": true,
    "editable": true
   },
   "outputs": [],
   "source": [
    "import pandas as pd\n",
    "df = pd.DataFrame(depths, columns=[\"depth\"])\n",
    "df.to_csv('depths.csv', index=False)"
   ]
  },
  {
   "cell_type": "code",
   "execution_count": 17,
   "metadata": {
    "collapsed": true,
    "deletable": true,
    "editable": true
   },
   "outputs": [],
   "source": [
    "def getMeshOpts(vtk_file, csv_file, vmin, vmax, threshold):\n",
    "    cols = pd.read_csv(csv_file).columns.tolist()\n",
    "    MeshOpts = {}\n",
    "    MeshOpts[os.path.abspath(vtk_file)] = {  \n",
    "                      \"filename\": os.path.abspath(csv_file),\n",
    "                      \"colormin\": \"#0000FF\", \n",
    "                      \"colormax\": \"#FF0000\",\n",
    "                      \"vmin\": vmin,\n",
    "                      \"vmax\": vmax,\n",
    "                      \"key\": cols[0],\n",
    "                      \"key_options\": cols,    \n",
    "                      \"threshold\": threshold,\n",
    "                      \"mesh_transparency\": 1,\n",
    "                      \"mesh_visible\": True,\n",
    "                      \"overlay_transparency\": 1\n",
    "                  }\n",
    "    return MeshOpts"
   ]
  },
  {
   "cell_type": "code",
   "execution_count": 7,
   "metadata": {
    "collapsed": false,
    "deletable": true,
    "editable": true,
    "scrolled": false
   },
   "outputs": [
    {
     "name": "stdout",
     "output_type": "stream",
     "text": [
      "doing checks /home/jovyan/.jupyter/custom/\n",
      "{'/home/jovyan/work/mindboggle/docs/lh.pial.vtk': 'papaya_data/tmpeaz3y_nr.vtk'}\n",
      "/files/papaya_data/tmpeaz3y_nr.vtk\n",
      "{'/home/jovyan/work/mindboggle/docs/lh.pial.vtk': {'mesh_transparency': 1, 'overlay_transparency': 1, 'threshold': 2, 'key': 'depth', 'mesh_visible': True, 'colormax': '#FF0000', 'colormin': '#0000FF', 'key_options': ['depth'], 'vmax': 10, 'filename': '/files/papaya_data/tmp2bsbwp4t.csv', 'vmin': 2}} {'/files/papaya_data/tmpeaz3y_nr.vtk': {'mesh_transparency': 1, 'overlay_transparency': 1, 'threshold': 2, 'key': 'depth', 'mesh_visible': True, 'colormax': '#FF0000', 'colormin': '#0000FF', 'key_options': ['depth'], 'vmax': 10, 'filename': '/files/papaya_data/tmp2bsbwp4t.csv', 'vmin': 2}}\n"
     ]
    },
    {
     "data": {
      "text/html": [
       "\n",
       "            <script type=\"text/javascript\">\n",
       "                var nb_port = window.location.port;\n",
       "                var iframe = document.querySelector('iframe#tmp8ysfvlfs');\n",
       "                iframe.src=\"http://localhost:\" + nb_port + \"/files/papaya_data/tmp8ysfvlfs.html\";\n",
       "            </script>\n",
       "            <iframe\n",
       "            id=\"tmp8ysfvlfs\"\n",
       "            width=\"600\"\n",
       "            height=\"450\"\n",
       "            scrolling=\"no\"\n",
       "            frameBorder=\"0\">\n",
       "            </iframe>"
      ],
      "text/plain": [
       "<nbpapaya.base.Overlay at 0x7f6aca0a6b70>"
      ]
     },
     "execution_count": 11,
     "metadata": {},
     "output_type": "execute_result"
    }
   ],
   "source": [
    "MeshOpts = getMeshOpts(surface_file, \"depths.csv\" , 2,10,2)\n",
    "Overlay(MeshOpts)"
   ]
  },
  {
   "cell_type": "markdown",
   "metadata": {
    "deletable": true,
    "editable": true
   },
   "source": [
    "### Extract folds based on depth and curvature\n",
    "Plot a histogram of the depth values:"
   ]
  },
  {
   "cell_type": "code",
   "execution_count": 14,
   "metadata": {
    "collapsed": false,
    "deletable": true,
    "editable": true
   },
   "outputs": [
    {
     "data": {
      "image/png": "[encoded data removed]",
      "text/plain": [
       "<matplotlib.figure.Figure at 0x7f6b0e735f60>"
      ]
     },
     "metadata": {},
     "output_type": "display_data"
    }
   ],
   "source": [
    "from mindboggle.mio.plots import histograms_of_lists\n",
    "histograms_of_lists(columns=[depths],\n",
    "                    column_name='Depth values',\n",
    "                    ignore_columns=[],\n",
    "                    nbins=100,\n",
    "                    axis_limits=[],\n",
    "                    titles='depth values')"
   ]
  },
  {
   "cell_type": "markdown",
   "metadata": {},
   "source": [
    "Find a depth threshold to extract folds from the surface:"
   ]
  },
  {
   "cell_type": "code",
   "execution_count": 21,
   "metadata": {
    "collapsed": false,
    "deletable": true,
    "editable": true
   },
   "outputs": [
    {
     "name": "stdout",
     "output_type": "stream",
     "text": [
      "  Depth threshold: 1.4778676864945055\n"
     ]
    },
    {
     "data": {
      "text/plain": [
       "1.4778676864945055"
      ]
     },
     "execution_count": 21,
     "metadata": {},
     "output_type": "execute_result"
    }
   ],
   "source": [
    "from mindboggle.features.folds import find_depth_threshold\n",
    "depth_threshold, bins, bin_edges = find_depth_threshold(depth_file=depth_file,\n",
    "                                                        min_vertices=10000,\n",
    "                                                        verbose=True)\n",
    "depth_threshold"
   ]
  },
  {
   "cell_type": "markdown",
   "metadata": {
    "deletable": true,
    "editable": true
   },
   "source": [
    "Extract folds with the depth threshold:"
   ]
  },
  {
   "cell_type": "code",
   "execution_count": 27,
   "metadata": {
    "collapsed": false,
    "deletable": true,
    "editable": true
   },
   "outputs": [
    {
     "name": "stdout",
     "output_type": "stream",
     "text": [
      "Extract folds in surface mesh\n",
      "  Segment vertices deeper than 1.48 as folds\n",
      "  ...Segmented folds (2.92 seconds)\n",
      "  Remove folds smaller than 50\n",
      "  ...Extracted 10 folds (6.59 seconds)\n"
     ]
    }
   ],
   "source": [
    "from mindboggle.features.folds import extract_folds\n",
    "folds, n_folds, folds_file = extract_folds(depth_file=depth_file,\n",
    "                                           depth_threshold=depth_threshold,\n",
    "                                           min_fold_size=50,\n",
    "                                           save_file=True,\n",
    "                                           output_file='folds.vtk',\n",
    "                                           background_value=-1,\n",
    "                                           verbose=True)"
   ]
  },
  {
   "cell_type": "markdown",
   "metadata": {},
   "source": [
    "Remove all vertices but the folds:"
   ]
  },
  {
   "cell_type": "code",
   "execution_count": 50,
   "metadata": {
    "collapsed": false
   },
   "outputs": [],
   "source": [
    "import numpy as np\n",
    "#indices = [i for i,x in enumerate(folds) if x >-1]\n",
    "#just_folds = [folds[i] for i in indices]\n",
    "just_folds = np.ones(len(folds))"
   ]
  },
  {
   "cell_type": "code",
   "execution_count": 51,
   "metadata": {
    "collapsed": false
   },
   "outputs": [],
   "source": [
    "from mindboggle.mio.vtks import rewrite_scalars\n",
    "rewrite_scalars(input_vtk=folds_file,\n",
    "                output_vtk='rewrite_scalars.vtk',\n",
    "                new_scalars=[folds],\n",
    "                new_scalar_names=['folds'],\n",
    "                filter_scalars=folds,\n",
    "                background_value=-1)"
   ]
  },
  {
   "cell_type": "markdown",
   "metadata": {
    "deletable": true,
    "editable": true
   },
   "source": [
    "Plot the folds in 3-D:"
   ]
  },
  {
   "cell_type": "code",
   "execution_count": 52,
   "metadata": {
    "collapsed": false,
    "deletable": true,
    "editable": true
   },
   "outputs": [
    {
     "name": "stdout",
     "output_type": "stream",
     "text": [
      "doing checks /home/jovyan/.jupyter/custom/\n",
      "{'/home/jovyan/work/mindboggle/docs/rewrite_scalars.vtk': 'papaya_data/tmp27ck3nhz.vtk'}\n",
      "/files/papaya_data/tmp27ck3nhz.vtk\n",
      "{'/home/jovyan/work/mindboggle/docs/rewrite_scalars.vtk': {'mesh_transparency': 1, 'overlay_transparency': 1, 'threshold': 1, 'key': 'folds', 'mesh_visible': True, 'colormax': '#FF0000', 'colormin': '#0000FF', 'key_options': ['folds'], 'vmax': 10, 'filename': '/files/papaya_data/tmpgmzlmtrl.csv', 'vmin': 1}} {'/files/papaya_data/tmp27ck3nhz.vtk': {'mesh_transparency': 1, 'overlay_transparency': 1, 'threshold': 1, 'key': 'folds', 'mesh_visible': True, 'colormax': '#FF0000', 'colormin': '#0000FF', 'key_options': ['folds'], 'vmax': 10, 'filename': '/files/papaya_data/tmpgmzlmtrl.csv', 'vmin': 1}}\n"
     ]
    },
    {
     "data": {
      "text/html": [
       "\n",
       "            <script type=\"text/javascript\">\n",
       "                var nb_port = window.location.port;\n",
       "                var iframe = document.querySelector('iframe#tmpt84gvgvq');\n",
       "                iframe.src=\"http://localhost:\" + nb_port + \"/files/papaya_data/tmpt84gvgvq.html\";\n",
       "            </script>\n",
       "            <iframe\n",
       "            id=\"tmpt84gvgvq\"\n",
       "            width=\"600\"\n",
       "            height=\"450\"\n",
       "            scrolling=\"no\"\n",
       "            frameBorder=\"0\">\n",
       "            </iframe>"
      ],
      "text/plain": [
       "<nbpapaya.base.Overlay at 0x7f6accdc7048>"
      ]
     },
     "execution_count": 52,
     "metadata": {},
     "output_type": "execute_result"
    }
   ],
   "source": [
    "df = pd.DataFrame(just_folds, columns=[\"folds\"])\n",
    "df.to_csv('folds.csv', index=False)\n",
    "MeshOpts = getMeshOpts('rewrite_scalars.vtk', \"folds.csv\" , 1,10,1)\n",
    "Overlay(MeshOpts)"
   ]
  },
  {
   "cell_type": "markdown",
   "metadata": {
    "deletable": true,
    "editable": true
   },
   "source": [
    "View histograms of statistical values:"
   ]
  },
  {
   "cell_type": "code",
   "execution_count": null,
   "metadata": {
    "collapsed": false,
    "deletable": true,
    "editable": true
   },
   "outputs": [],
   "source": [
    "from mindboggle.mio.plots import histograms_of_lists\n",
    "columns = [medians, mads, skews, kurts, lower_quarts, upper_quarts]\n",
    "column_name = '.'\n",
    "ignore_columns = []\n",
    "nbins = 10\n",
    "axis_limits = []\n",
    "titles = ['medians', 'mads', 'skews', 'kurts', 'lower_quarts', 'upper_quarts']\n",
    "histograms_of_lists(columns, column_name, ignore_columns, nbins, axis_limits, titles)"
   ]
  }
 ],
 "metadata": {
  "anaconda-cloud": {},
  "celltoolbar": "Raw Cell Format",
  "kernelspec": {
   "display_name": "Python 3",
   "language": "python",
   "name": "python3"
  },
  "language_info": {
   "codemirror_mode": {
    "name": "ipython",
    "version": 3
   },
   "file_extension": ".py",
   "mimetype": "text/x-python",
   "name": "python",
   "nbconvert_exporter": "python",
   "pygments_lexer": "ipython3",
   "version": "3.5.2"
  }
 },
 "nbformat": 4,
 "nbformat_minor": 0
}

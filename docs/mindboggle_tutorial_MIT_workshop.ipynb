{
 "cells": [
  {
   "cell_type": "markdown",
   "metadata": {
    "deletable": true,
    "editable": true
   },
   "source": [
    "## Prepare new Docker file\n",
    "\n",
    "Create a new file called Docker.mindboggle.new\n",
    "\n",
    "```\n",
    "FROM nipype/workshops:latest-complete\n",
    "WORKDIR /home/jovyan/work\n",
    "RUN conda install -y flask\n",
    "RUN git clone https://github.com/nipy/mindboggle && cd mindboggle && python setup.py install\n",
    "RUN git clone https://github.com/akeshavan/roygbiv && cd roygbiv && python setup.py install\n",
    "RUN git clone https://github.com/akeshavan/nbpapaya && cd nbpapaya && git submodule update --init --recursive && python setup.py install\n",
    "RUN mkdir /home/jovyan/data_mb && cd /home/jovyan/data_mb && curl -sSL https://osf.io/svxht/?action=download | tar xzf - -C /home/jovyan/data_mb --strip-components=2\n",
    "```\n",
    "\n",
    "### Build the docker:\n",
    "\n",
    "```\n",
    "docker build -t nipypeshop_plus -f Docker.mindboggle.new .\n",
    "```\n",
    "\n",
    "### Start the docker:\n",
    "\n",
    "```\n",
    "cd /path/to/workshop/\n",
    "docker run -ti -v $PWD:/home/jovyan/work -p 9876:8888 -p 5000:5000 nipypeshop_plus bash\n",
    "```\n",
    "\n",
    "## Datalad\n",
    "\n",
    "If you don't have the raw data downloaded, and want to run mindboggle, do the following:\n",
    "\n",
    "```\n",
    "cd /home/jovyan/work/data/ds000114\n",
    "git remote add datasets http://datasets.datalad.org/workshops/nipype-2017/ds000114/.git\n",
    "datalad get . \n",
    "```\n",
    "\n",
    "## Try running the roygbiv webapp\n",
    "\n",
    "```\n",
    "cd ~/work\n",
    "roygbiv /home/jovyan/data_mb/mindboggled/mindboggled_subjects_nipype_workshop_MIT_2017/sub-01\n",
    "\n",
    "```\n",
    "\n",
    "on your **chrome** browser, navigate to `localhost:5000`\n",
    "\n",
    "### Clone mindboggle directory\n",
    "\n",
    "```\n",
    "cd ~/work\n",
    "git clone https://github.com/nipy/mindboggle\n",
    "```\n",
    "\n",
    "### Change directory to mindboggle/docs and start the notebook:\n",
    "\n",
    "```\n",
    "cd mindboggle/docs\n",
    "jupyter notebook\n",
    "```\n"
   ]
  },
  {
   "cell_type": "markdown",
   "metadata": {
    "deletable": true,
    "editable": true
   },
   "source": [
    "<img align=\"left\" style=\"padding-right:10px; width:150px;\" src=\"https://mfr.osf.io/export?url=https://osf.io/q7ym9/?action=download%26direct%26mode=render&initialWidth=673&childId=mfrIframe&format=1200x1200.jpeg\">\n",
    "<font size=\"1\">\n",
    "This [Mindboggle](http://mindboggle.info) tutorial is a jupyter notebook that runs in a docker container:\n",
    "<br>\n",
    "*\n",
    "&nbsp;&nbsp;``$ docker run -it --rm -p 8888:8888 -v /Users/arno/Data/workshops:/home/jovyan/work nipype/workshops:latest-complete bash``<br>\n",
    "&nbsp;&nbsp;``$ git clone https://github.com/nipy/mindboggle.git; cd mindboggle; python setup.py install; cd ..;``<br>\n",
    "&nbsp;&nbsp;``$ jupyter notebook``<br>\n",
    "&nbsp;&nbsp;-- <a href=\"http://binarybottle.com\">Arno Klein</a> and Anisha Keshavan (please refer to the [Mindboggle reference](http://journals.plos.org/ploscompbiol/article?id=10.1371/journal.pcbi.1005350#sec007))*\n",
    "</font>"
   ]
  },
  {
   "cell_type": "markdown",
   "metadata": {
    "deletable": true,
    "editable": true
   },
   "source": [
    "# Mindboggle tutorial\n",
    "\n",
    "1. [Introduction](#introduction)\n",
    "2. [Mindboggle processing steps](#processing)\n",
    "3. [Run \"mindboggle --help\" on the command line](#help)\n",
    "4. [Run \"mindboggle\" command with example data](#command)\n",
    "5. [Mindboggle Python library](#library)\n",
    "6. Run individual functions:\n",
    "   - [Example 1: Compute histogram values from a nibabel-readable image](#example1)\n",
    "   - [Example 2: Compute statistical measures across vertices per label](#example2)\n",
    "   - [Example 3: Decimate a left postcentral pial surface](#example3)\n",
    "   - [Example 4: Relabel a VTK surface](#example4)\n",
    "   - [Example 5: Segment deep vertices of surface into contiguous regions](#example5)\n",
    "   - [Example 6: Extract sulcus label borders](#example6)"
   ]
  },
  {
   "cell_type": "markdown",
   "metadata": {
    "deletable": true,
    "editable": true
   },
   "source": [
    "<a id=\"introduction\"></a>\n",
    "\n",
    "# Introduction\n",
    "<br>\n",
    "<br>\n",
    "<br>\n",
    "<br>"
   ]
  },
  {
   "cell_type": "markdown",
   "metadata": {
    "deletable": true,
    "editable": true
   },
   "source": [
    "<a id=\"processing\"></a>\n",
    "\n",
    "# Mindboggle processing steps\n",
    "\n",
    "<img style=\"padding-right:10px;\" src=\"https://mfr.osf.io/export?url=https://osf.io/dcuh8/?action=download%26direct%26mode=render&initialWidth=673&childId=mfrIframe&format=1200x1200.jpeg\">\n",
    "\n",
    "## Output\n",
    "Mindboggle takes in (FreeSurfer- and optionally ANTs-) preprocessed T1-weighted MRI data, and outputs nifti volumes, vtk surfaces, and csv tables containing label, feature, and shape information for further analysis:\n",
    "\n",
    "- **labels/**:  *integer-labeled vtk surfaces and nifti volumes*\n",
    "- **features/**:  *integer-labeled sulci or fundi on vtk surfaces*\n",
    "- **shapes/**:  *float shape value for every point on vtk surfaces*\n",
    "- **tables/**:  *csv tables of shape values for every label/feature/vertex*"
   ]
  },
  {
   "cell_type": "markdown",
   "metadata": {
    "deletable": true,
    "editable": true
   },
   "source": [
    "<br>\n",
    "## Processing steps\n",
    "\n",
    "### 1. Combine FreeSurfer and ANTs gray/white segmentations:\n",
    "<br>\n",
    "<img style=\"padding-right:10px; width:600px;\" src=\"https://mfr.osf.io/export?url=https://osf.io/k5kr8/?action=download%26direct%26mode=render&initialWidth=673&childId=mfrIframe&format=1200x1200.jpeg\">\n",
    "<br>"
   ]
  },
  {
   "cell_type": "markdown",
   "metadata": {
    "deletable": true,
    "editable": true
   },
   "source": [
    "<br>\n",
    "### 2. Fill hybrid segmentation with (FreeSurfer- or ANTs-registered) labels.\n",
    "### 3. Compute volume shape measures for each labeled region:\n",
    "&nbsp;&nbsp;&nbsp;&nbsp;&nbsp;&nbsp;&nbsp;&nbsp;\n",
    "<b>volume and \"thickinthehead\" (cortical thickness)</b>\n",
    "<br>\n",
    "<img style=\"padding-right:10px; width:600px;\" src=\"https://mfr.osf.io/export?url=https://osf.io/n5hvx/?action=download%26direct%26mode=render&initialWidth=673&childId=mfrIframe&format=1200x1200.jpeg\">\n",
    "<br>"
   ]
  },
  {
   "cell_type": "markdown",
   "metadata": {
    "deletable": true,
    "editable": true
   },
   "source": [
    "<br>\n",
    "### 4. Compute surface shape measures for every cortical mesh vertex (+ FreeSurfer measures)\n",
    "&nbsp;&nbsp;&nbsp;&nbsp;&nbsp;&nbsp;&nbsp;&nbsp;\n",
    "<b>surface area</b>\n",
    "<br>\n",
    "<img style=\"padding-right:10px; width:600px;\" src=\"https://mfr.osf.io/export?url=https://osf.io/6varh/?action=download%26direct%26mode=render&initialWidth=673&childId=mfrIframe&format=1200x1200.jpeg\">\n",
    "<br>"
   ]
  },
  {
   "cell_type": "markdown",
   "metadata": {
    "deletable": true,
    "editable": true
   },
   "source": [
    "<br>\n",
    "&nbsp;&nbsp;&nbsp;&nbsp;&nbsp;&nbsp;&nbsp;&nbsp;\n",
    "<b>geodesic depth and travel depth</b>\n",
    "<br>\n",
    "<img style=\"padding-right:10px; width:600px;\" src=\"https://mfr.osf.io/export?url=https://osf.io/uv9u6/?action=download%26direct%26mode=render&initialWidth=673&childId=mfrIframe&format=1200x1200.jpeg\">\n",
    "<br>"
   ]
  },
  {
   "cell_type": "markdown",
   "metadata": {
    "deletable": true,
    "editable": true
   },
   "source": [
    "<br>\n",
    "&nbsp;&nbsp;&nbsp;&nbsp;&nbsp;&nbsp;&nbsp;&nbsp;\n",
    "<b>mean curvature</b>\n",
    "<br>\n",
    "<img style=\"padding-right:10px; width:600px;\" src=\"https://mfr.osf.io/export?url=https://osf.io/v7v2u/?action=download%26direct%26mode=render&initialWidth=673&childId=mfrIframe&format=1200x1200.jpeg\">\n",
    "<br>"
   ]
  },
  {
   "cell_type": "markdown",
   "metadata": {
    "deletable": true,
    "editable": true
   },
   "source": [
    "<br>\n",
    "### 5. Extract cortical surface features:\n",
    "&nbsp;&nbsp;&nbsp;&nbsp;&nbsp;&nbsp;&nbsp;&nbsp;\n",
    "<b>folds</b> (left and upper right, with manual labels) \n",
    "<br>\n",
    "&nbsp;&nbsp;&nbsp;&nbsp;&nbsp;&nbsp;&nbsp;&nbsp;\n",
    "<b>sulci</b> (lower right)\n",
    "<br>\n",
    "<img style=\"padding-right:10px; width:600px;\" src=\"https://mfr.osf.io/export?url=https://osf.io/jq828/?action=download%26direct%26mode=render&initialWidth=673&childId=mfrIframe&format=1200x1200.jpeg\">\n",
    "\n",
    "&nbsp;&nbsp;&nbsp;&nbsp;&nbsp;&nbsp;&nbsp;&nbsp;\n",
    "<b>fundi</b> (right)\n",
    "<img style=\"padding-right:10px; width:300px;\" src=\"https://mfr.osf.io/export?url=https://osf.io/27pjt/?action=download%26direct%26mode=render&initialWidth=673&childId=mfrIframe&format=1200x1200.jpeg\">\n",
    "<br>"
   ]
  },
  {
   "cell_type": "markdown",
   "metadata": {
    "deletable": true,
    "editable": true
   },
   "source": [
    "<br>\n",
    "### 6. For each cortical surface label/sulcus, compute:\n",
    "&nbsp;&nbsp;&nbsp;&nbsp;&nbsp;&nbsp;&nbsp;&nbsp;\n",
    "<b>area</b>\n",
    "<br>\n",
    "&nbsp;&nbsp;&nbsp;&nbsp;&nbsp;&nbsp;&nbsp;&nbsp;\n",
    "<b>mean coordinates</b> (in native and in MNI152 space)\n",
    "<br>\n",
    "&nbsp;&nbsp;&nbsp;&nbsp;&nbsp;&nbsp;&nbsp;&nbsp;\n",
    "<b>Zernike moments</b>\n",
    "<br>\n",
    "&nbsp;&nbsp;&nbsp;&nbsp;&nbsp;&nbsp;&nbsp;&nbsp;\n",
    "<b>Laplace-Beltrami spectrum</b> (2nd, 3rd, and 9th spectral components shown for two brains):\n",
    "<br>\n",
    "<br>\n",
    "<img style=\"padding-right:10px; width:600px;\" src=\"https://mfr.osf.io/export?url=https://osf.io/zhbvy/?action=download%26direct%26mode=render&initialWidth=673&childId=mfrIframe&format=1200x1200.jpeg\">  \n",
    "<br>"
   ]
  },
  {
   "cell_type": "markdown",
   "metadata": {
    "deletable": true,
    "editable": true
   },
   "source": [
    "<br>\n",
    "### 7. Compute statistics for each shape measure across vertices for each label/feature:\n",
    "    - median\n",
    "    - median absolute deviation\n",
    "    - mean\n",
    "    - standard deviation\n",
    "    - skew\n",
    "    - kurtosis\n",
    "    - lower and upper quartiles\n",
    "<br>"
   ]
  },
  {
   "cell_type": "markdown",
   "metadata": {
    "deletable": true,
    "editable": true
   },
   "source": [
    "<a id=\"help\"></a>\n",
    "\n",
    "# Run \"mindboggle --help\" on the command line\n",
    "\n",
    "First, let's see what command-line options Mindboggle provides:"
   ]
  },
  {
   "cell_type": "code",
   "execution_count": 38,
   "metadata": {
    "collapsed": false,
    "deletable": true,
    "editable": true
   },
   "outputs": [
    {
     "name": "stdout",
     "output_type": "stream",
     "text": [
      "usage: mindboggle [-h] [-v] [-c INT] [--ants STR] [--out STR] [--working STR]\r\n",
      "                  [--cache STR] [--no_volumes] [--no_surfaces] [--no_labels]\r\n",
      "                  [--no_shapes] [--no_sulci] [--no_points] [--no_moments]\r\n",
      "                  [--no_spectra] [--no_thickness] [--fundi] [--moments INT]\r\n",
      "                  [--spectra INT] [--my_atlas STR] [--my_atlases  [...]]\r\n",
      "                  [--my_graywhite STR] [--my_transform STR] [--graph STR]\r\n",
      "                  [--roygbiv] [--plugin PLUGIN] [--plugin_args PLUGIN_ARGS]\r\n",
      "                  DATA\r\n",
      "\r\n",
      "The Mindboggle software automates shape analysis of anatomical labels and\r\n",
      "features extracted from human brain MR image data (http://mindboggle.info).\r\n",
      "Example: mindboggle $HOME/freesurfer/subjects/arno --ants\r\n",
      "$HOME/ants/subjects/arno/antsBrainSegmentation.nii.gz\r\n",
      "\r\n",
      "positional arguments:\r\n",
      "  DATA                       path to directory of a person's brain data,\r\n",
      "                             usually generated by the FreeSurfer software\r\n",
      "\r\n",
      "optional arguments:\r\n",
      "  -h, --help                 show this help message and exit\r\n",
      "  -v, --version              show mindboggle version number\r\n",
      "  -c INT, --cpus INT         number of processors to use (1)\r\n",
      "\r\n",
      "recommended arguments:\r\n",
      "  --ants STR                 path to brain segmentation file (ex:\r\n",
      "                             /data/arno/antsBrainSegmentation.nii.gz)\r\n",
      "                             generated by antsCorticalThickness.sh command\r\n",
      "                             (transforms are accessed from same directory)\r\n",
      "\r\n",
      "modify outputs:\r\n",
      "  --out STR                  output folder (if not $HOME/mindboggled)\r\n",
      "  --working STR              working folder (if not $HOME/mindboggling)\r\n",
      "  --cache STR                download folder (if not $HOME/mindboggle_cache)\r\n",
      "  --no_volumes               no volume labels, features, or shape tables\r\n",
      "  --no_surfaces              no surface labels, features, or shape tables\r\n",
      "  --no_labels                no surface or volume labels\r\n",
      "  --no_shapes                no surface or volume shape measures\r\n",
      "  --no_sulci                 no sulci from labeled folds\r\n",
      "  --no_points                no table of per-vertex surface shape measures\r\n",
      "  --no_moments               no Zernike moments per surface label or sulcus\r\n",
      "  --no_spectra               no Laplace-Beltrami per surface label or sulcus\r\n",
      "  --no_thickness             no volume-based cortical label thicknesses\r\n",
      "\r\n",
      "advanced settings:\r\n",
      "  --fundi                    extract, measure fundi (under evaluation, SLOW)\r\n",
      "  --moments INT              reset order of Zernike moments (10)\r\n",
      "  --spectra INT              reset number of Laplace-Beltrami eigenvalues (10)\r\n",
      "  --my_atlas STR             new atlas, same labels, in MNI space (with\r\n",
      "                             corresponding template if --ants is set)\r\n",
      "  --my_atlases  [ ...]       extra atlas(es) in MNI space with label numbers\r\n",
      "                             from return_numbers_names_colors()\r\n",
      "  --my_graywhite STR         new gray/white matter file (ex: edited Mindboggle\r\n",
      "                             output); still call --ants for transforms\r\n",
      "  --my_transform STR         different ITK affine transform to MNI space (if\r\n",
      "                             different template used to get --ants output)\r\n",
      "  --graph STR                plot workflow: \"hier\", \"exec\" (need graphviz)\r\n",
      "  --roygbiv                  prepare data for visualization with ROYGBIV\r\n",
      "  --plugin PLUGIN            nipype plugin (see nipype documentation)\r\n",
      "  --plugin_args PLUGIN_ARGS  plugin arguments (see nipype documentation)\r\n"
     ]
    }
   ],
   "source": [
    "! mindboggle --help"
   ]
  },
  {
   "cell_type": "markdown",
   "metadata": {
    "deletable": true,
    "editable": true
   },
   "source": [
    "<a id=\"command\"></a>\n",
    "\n",
    "# Run \"mindboggle\" command with example data\n",
    "\n",
    "In the following example, we will run Mindboggle on FreeSurfer (but not ANTs) data to get shape measures such as curvature, depth, and area for cortical surface labels, and to make it quick, we will turn off volume labels and volume shape measures, sulci, and surface-based Zernike moments and Laplace-Beltrami spectra."
   ]
  },
  {
   "cell_type": "code",
   "execution_count": 41,
   "metadata": {
    "collapsed": false,
    "deletable": true,
    "editable": true
   },
   "outputs": [
    {
     "name": "stdout",
     "output_type": "stream",
     "text": [
      "Retrieve file from URL: https://osf.io/ufydw/?action=download&version=1\n",
      "Copy file to cache: /home/jovyan/mindboggle_cache/f36e3d5d99f7c4a9bb70e2494ed7340b/OASIS-30_Atropos_template_to_MNI152_affine.txt.txt\n",
      "170329-15:13:03,508 workflow INFO:\n",
      "\t Workflow Mindboggle settings: ['check', 'execution', 'logging']\n",
      "170329-15:13:03,738 workflow INFO:\n",
      "\t Running serially.\n",
      "170329-15:13:03,739 workflow INFO:\n",
      "\t Executing node MRI_mgh_format in dir: /home/jovyan/work/data/mindboggling/sub-01/Mindboggle/MRI_mgh_format\n",
      "170329-15:13:03,880 workflow INFO:\n",
      "\t Executing node Freesurfer_annot.a0 in dir: /home/jovyan/work/data/mindboggling/sub-01/Mindboggle/_hemi_lh/Freesurfer_annot\n",
      "170329-15:13:04,97 workflow INFO:\n",
      "\t Executing node Fetch_Mindboggle_atlas in dir: /home/jovyan/work/data/mindboggling/sub-01/Mindboggle/Fetch_Mindboggle_atlas\n",
      "170329-15:13:04,130 workflow INFO:\n",
      "\t Collecting precomputed outputs\n",
      "170329-15:13:04,143 workflow INFO:\n",
      "\t Executing node Surfaces.a1 in dir: /home/jovyan/work/data/mindboggling/sub-01/Mindboggle/_hemi_rh/Surfaces\n",
      "170329-15:13:04,393 workflow INFO:\n",
      "\t Executing node Freesurfer_annot.a1 in dir: /home/jovyan/work/data/mindboggling/sub-01/Mindboggle/_hemi_rh/Freesurfer_annot\n",
      "170329-15:13:04,612 workflow INFO:\n",
      "\t Executing node Surface_to_vtk.a1 in dir: /home/jovyan/work/data/mindboggling/sub-01/Mindboggle/_hemi_rh/Surface_to_vtk\n",
      "170329-15:13:04,743 workflow INFO:\n",
      "\t Collecting precomputed outputs\n",
      "170329-15:13:04,779 workflow INFO:\n",
      "\t Executing node Freesurfer_sulc_to_vtk.a1 in dir: /home/jovyan/work/data/mindboggling/sub-01/Mindboggle/Surface_shapes/_hemi_rh/Freesurfer_sulc_to_vtk\n",
      "170329-15:13:06,453 workflow ERROR:\n",
      "\t ['Node Freesurfer_sulc_to_vtk.a1 failed to run on host 23098ca5312f.']\n",
      "170329-15:13:06,465 workflow INFO:\n",
      "\t Saving crash info to /home/jovyan/work/mindboggle/docs/crash-20170329-151306-jovyan-Freesurfer_sulc_to_vtk.a1-977e4e93-8e73-4cfc-bd59-03ecc349c59e.pklz\n",
      "170329-15:13:06,465 workflow INFO:\n",
      "\t Traceback (most recent call last):\n",
      "  File \"/opt/conda/lib/python3.5/site-packages/nipype/pipeline/plugins/linear.py\", line 43, in run\n",
      "    node.run(updatehash=updatehash)\n",
      "  File \"/opt/conda/lib/python3.5/site-packages/nipype/pipeline/engine/nodes.py\", line 366, in run\n",
      "    self._run_interface()\n",
      "  File \"/opt/conda/lib/python3.5/site-packages/nipype/pipeline/engine/nodes.py\", line 476, in _run_interface\n",
      "    self._result = self._run_command(execute)\n",
      "  File \"/opt/conda/lib/python3.5/site-packages/nipype/pipeline/engine/nodes.py\", line 607, in _run_command\n",
      "    result = self._interface.run()\n",
      "  File \"/opt/conda/lib/python3.5/site-packages/nipype/interfaces/base.py\", line 1085, in run\n",
      "    runtime = self._run_wrapper(runtime)\n",
      "  File \"/opt/conda/lib/python3.5/site-packages/nipype/interfaces/base.py\", line 1033, in _run_wrapper\n",
      "    runtime = self._run_interface(runtime)\n",
      "  File \"/opt/conda/lib/python3.5/site-packages/nipype/interfaces/utility/wrappers.py\", line 177, in _run_interface\n",
      "    out = function_handle(**args)\n",
      "  File \"<string>\", line 53, in freesurfer_curvature_to_vtk\n",
      "  File \"/opt/conda/lib/python3.5/site-packages/mindboggle/mio/vtks.py\", line 807, in rewrite_scalars\n",
      "    input_vtk = read_vtk(input_vtk)\n",
      "  File \"/opt/conda/lib/python3.5/site-packages/mindboggle/mio/vtks.py\", line 384, in read_vtk\n",
      "    PointData = Data.GetPointData()\n",
      "AttributeError: 'NoneType' object has no attribute 'GetPointData'\n",
      "Interface Function failed to run. \n",
      "\n",
      "170329-15:13:06,503 workflow INFO:\n",
      "\t Executing node Freesurfer_thickness_to_vtk.a1 in dir: /home/jovyan/work/data/mindboggling/sub-01/Mindboggle/Surface_shapes/_hemi_rh/Freesurfer_thickness_to_vtk\n",
      "170329-15:13:06,724 workflow ERROR:\n",
      "\t ['Node Freesurfer_thickness_to_vtk.a1 failed to run on host 23098ca5312f.']\n",
      "170329-15:13:06,726 workflow INFO:\n",
      "\t Saving crash info to /home/jovyan/work/mindboggle/docs/crash-20170329-151306-jovyan-Freesurfer_thickness_to_vtk.a1-6685bd4e-50d8-48ed-b2c6-394d3c21acd9.pklz\n",
      "170329-15:13:06,726 workflow INFO:\n",
      "\t Traceback (most recent call last):\n",
      "  File \"/opt/conda/lib/python3.5/site-packages/nipype/pipeline/plugins/linear.py\", line 43, in run\n",
      "    node.run(updatehash=updatehash)\n",
      "  File \"/opt/conda/lib/python3.5/site-packages/nipype/pipeline/engine/nodes.py\", line 366, in run\n",
      "    self._run_interface()\n",
      "  File \"/opt/conda/lib/python3.5/site-packages/nipype/pipeline/engine/nodes.py\", line 476, in _run_interface\n",
      "    self._result = self._run_command(execute)\n",
      "  File \"/opt/conda/lib/python3.5/site-packages/nipype/pipeline/engine/nodes.py\", line 607, in _run_command\n",
      "    result = self._interface.run()\n",
      "  File \"/opt/conda/lib/python3.5/site-packages/nipype/interfaces/base.py\", line 1085, in run\n",
      "    runtime = self._run_wrapper(runtime)\n",
      "  File \"/opt/conda/lib/python3.5/site-packages/nipype/interfaces/base.py\", line 1033, in _run_wrapper\n",
      "    runtime = self._run_interface(runtime)\n",
      "  File \"/opt/conda/lib/python3.5/site-packages/nipype/interfaces/utility/wrappers.py\", line 177, in _run_interface\n",
      "    out = function_handle(**args)\n",
      "  File \"<string>\", line 53, in freesurfer_curvature_to_vtk\n",
      "  File \"/opt/conda/lib/python3.5/site-packages/mindboggle/mio/vtks.py\", line 807, in rewrite_scalars\n",
      "    input_vtk = read_vtk(input_vtk)\n",
      "  File \"/opt/conda/lib/python3.5/site-packages/mindboggle/mio/vtks.py\", line 384, in read_vtk\n",
      "    PointData = Data.GetPointData()\n",
      "AttributeError: 'NoneType' object has no attribute 'GetPointData'\n",
      "Interface Function failed to run. \n",
      "\n",
      "170329-15:13:06,751 workflow INFO:\n",
      "\t Executing node Geodesic_depth.a1 in dir: /home/jovyan/work/data/mindboggling/sub-01/Mindboggle/Surface_shapes/_hemi_rh/Geodesic_depth\n",
      "170329-15:13:06,776 workflow INFO:\n",
      "\t Collecting precomputed outputs\n",
      "170329-15:13:06,819 workflow INFO:\n",
      "\t Executing node Freesurfer_curv_to_vtk.a1 in dir: /home/jovyan/work/data/mindboggling/sub-01/Mindboggle/Surface_shapes/_hemi_rh/Freesurfer_curv_to_vtk\n",
      "170329-15:13:07,16 workflow ERROR:\n",
      "\t ['Node Freesurfer_curv_to_vtk.a1 failed to run on host 23098ca5312f.']\n",
      "170329-15:13:07,18 workflow INFO:\n",
      "\t Saving crash info to /home/jovyan/work/mindboggle/docs/crash-20170329-151307-jovyan-Freesurfer_curv_to_vtk.a1-d95b496a-5852-4ad8-8760-0ccf9927b194.pklz\n",
      "170329-15:13:07,19 workflow INFO:\n",
      "\t Traceback (most recent call last):\n",
      "  File \"/opt/conda/lib/python3.5/site-packages/nipype/pipeline/plugins/linear.py\", line 43, in run\n",
      "    node.run(updatehash=updatehash)\n",
      "  File \"/opt/conda/lib/python3.5/site-packages/nipype/pipeline/engine/nodes.py\", line 366, in run\n",
      "    self._run_interface()\n",
      "  File \"/opt/conda/lib/python3.5/site-packages/nipype/pipeline/engine/nodes.py\", line 476, in _run_interface\n",
      "    self._result = self._run_command(execute)\n",
      "  File \"/opt/conda/lib/python3.5/site-packages/nipype/pipeline/engine/nodes.py\", line 607, in _run_command\n",
      "    result = self._interface.run()\n",
      "  File \"/opt/conda/lib/python3.5/site-packages/nipype/interfaces/base.py\", line 1085, in run\n",
      "    runtime = self._run_wrapper(runtime)\n",
      "  File \"/opt/conda/lib/python3.5/site-packages/nipype/interfaces/base.py\", line 1033, in _run_wrapper\n",
      "    runtime = self._run_interface(runtime)\n",
      "  File \"/opt/conda/lib/python3.5/site-packages/nipype/interfaces/utility/wrappers.py\", line 177, in _run_interface\n",
      "    out = function_handle(**args)\n",
      "  File \"<string>\", line 53, in freesurfer_curvature_to_vtk\n",
      "  File \"/opt/conda/lib/python3.5/site-packages/mindboggle/mio/vtks.py\", line 807, in rewrite_scalars\n",
      "    input_vtk = read_vtk(input_vtk)\n",
      "  File \"/opt/conda/lib/python3.5/site-packages/mindboggle/mio/vtks.py\", line 384, in read_vtk\n",
      "    PointData = Data.GetPointData()\n",
      "AttributeError: 'NoneType' object has no attribute 'GetPointData'\n",
      "Interface Function failed to run. \n",
      "\n",
      "170329-15:13:07,42 workflow INFO:\n",
      "\t Executing node Surface_area.a1 in dir: /home/jovyan/work/data/mindboggling/sub-01/Mindboggle/Surface_shapes/_hemi_rh/Surface_area\n",
      "170329-15:13:07,72 workflow INFO:\n",
      "\t Collecting precomputed outputs\n",
      "170329-15:13:07,100 workflow INFO:\n",
      "\t Executing node Curvature.a1 in dir: /home/jovyan/work/data/mindboggling/sub-01/Mindboggle/Surface_shapes/_hemi_rh/Curvature\n",
      "170329-15:13:07,131 workflow INFO:\n",
      "\t Collecting precomputed outputs\n",
      "170329-15:13:07,152 workflow INFO:\n",
      "\t Executing node Surfaces.a0 in dir: /home/jovyan/work/data/mindboggling/sub-01/Mindboggle/_hemi_lh/Surfaces\n",
      "170329-15:13:07,478 workflow INFO:\n",
      "\t Executing node Freesurfer_annot_to_vtk.a1 in dir: /home/jovyan/work/data/mindboggling/sub-01/Mindboggle/Surface_labels/_hemi_rh/Freesurfer_annot_to_vtk\n",
      "170329-15:13:07,983 workflow ERROR:\n",
      "\t ['Node Freesurfer_annot_to_vtk.a1 failed to run on host 23098ca5312f.']\n",
      "170329-15:13:07,984 workflow INFO:\n",
      "\t Saving crash info to /home/jovyan/work/mindboggle/docs/crash-20170329-151307-jovyan-Freesurfer_annot_to_vtk.a1-bf5042e8-02fe-457b-9cde-1ac6343719cd.pklz\n",
      "170329-15:13:07,985 workflow INFO:\n",
      "\t Traceback (most recent call last):\n",
      "  File \"/opt/conda/lib/python3.5/site-packages/nipype/pipeline/plugins/linear.py\", line 43, in run\n",
      "    node.run(updatehash=updatehash)\n",
      "  File \"/opt/conda/lib/python3.5/site-packages/nipype/pipeline/engine/nodes.py\", line 366, in run\n",
      "    self._run_interface()\n",
      "  File \"/opt/conda/lib/python3.5/site-packages/nipype/pipeline/engine/nodes.py\", line 476, in _run_interface\n",
      "    self._result = self._run_command(execute)\n",
      "  File \"/opt/conda/lib/python3.5/site-packages/nipype/pipeline/engine/nodes.py\", line 607, in _run_command\n",
      "    result = self._interface.run()\n",
      "  File \"/opt/conda/lib/python3.5/site-packages/nipype/interfaces/base.py\", line 1085, in run\n",
      "    runtime = self._run_wrapper(runtime)\n",
      "  File \"/opt/conda/lib/python3.5/site-packages/nipype/interfaces/base.py\", line 1033, in _run_wrapper\n",
      "    runtime = self._run_interface(runtime)\n",
      "  File \"/opt/conda/lib/python3.5/site-packages/nipype/interfaces/utility/wrappers.py\", line 177, in _run_interface\n",
      "    out = function_handle(**args)\n",
      "  File \"<string>\", line 78, in freesurfer_annot_to_vtk\n",
      "  File \"/opt/conda/lib/python3.5/site-packages/mindboggle/mio/vtks.py\", line 807, in rewrite_scalars\n",
      "    input_vtk = read_vtk(input_vtk)\n",
      "  File \"/opt/conda/lib/python3.5/site-packages/mindboggle/mio/vtks.py\", line 384, in read_vtk\n",
      "    PointData = Data.GetPointData()\n",
      "AttributeError: 'NoneType' object has no attribute 'GetPointData'\n",
      "Interface Function failed to run. \n",
      "\n",
      "170329-15:13:08,15 workflow INFO:\n",
      "\t Executing node Surface_to_vtk.a0 in dir: /home/jovyan/work/data/mindboggling/sub-01/Mindboggle/_hemi_lh/Surface_to_vtk\n",
      "170329-15:13:08,185 workflow INFO:\n",
      "\t Collecting precomputed outputs\n",
      "170329-15:13:08,215 workflow INFO:\n",
      "\t Executing node Curvature.a0 in dir: /home/jovyan/work/data/mindboggling/sub-01/Mindboggle/Surface_shapes/_hemi_lh/Curvature\n",
      "170329-15:13:08,246 workflow INFO:\n",
      "\t Collecting precomputed outputs\n",
      "170329-15:13:08,297 workflow INFO:\n",
      "\t Executing node Freesurfer_sulc_to_vtk.a0 in dir: /home/jovyan/work/data/mindboggling/sub-01/Mindboggle/Surface_shapes/_hemi_lh/Freesurfer_sulc_to_vtk\n",
      "170329-15:13:08,569 workflow ERROR:\n",
      "\t ['Node Freesurfer_sulc_to_vtk.a0 failed to run on host 23098ca5312f.']\n",
      "170329-15:13:08,571 workflow INFO:\n",
      "\t Saving crash info to /home/jovyan/work/mindboggle/docs/crash-20170329-151308-jovyan-Freesurfer_sulc_to_vtk.a0-4101a1a1-dd5e-49f1-a22f-2387c71e748a.pklz\n",
      "170329-15:13:08,571 workflow INFO:\n",
      "\t Traceback (most recent call last):\n",
      "  File \"/opt/conda/lib/python3.5/site-packages/nipype/pipeline/plugins/linear.py\", line 43, in run\n",
      "    node.run(updatehash=updatehash)\n",
      "  File \"/opt/conda/lib/python3.5/site-packages/nipype/pipeline/engine/nodes.py\", line 366, in run\n",
      "    self._run_interface()\n",
      "  File \"/opt/conda/lib/python3.5/site-packages/nipype/pipeline/engine/nodes.py\", line 476, in _run_interface\n",
      "    self._result = self._run_command(execute)\n",
      "  File \"/opt/conda/lib/python3.5/site-packages/nipype/pipeline/engine/nodes.py\", line 607, in _run_command\n",
      "    result = self._interface.run()\n",
      "  File \"/opt/conda/lib/python3.5/site-packages/nipype/interfaces/base.py\", line 1085, in run\n",
      "    runtime = self._run_wrapper(runtime)\n",
      "  File \"/opt/conda/lib/python3.5/site-packages/nipype/interfaces/base.py\", line 1033, in _run_wrapper\n",
      "    runtime = self._run_interface(runtime)\n",
      "  File \"/opt/conda/lib/python3.5/site-packages/nipype/interfaces/utility/wrappers.py\", line 177, in _run_interface\n",
      "    out = function_handle(**args)\n",
      "  File \"<string>\", line 53, in freesurfer_curvature_to_vtk\n",
      "  File \"/opt/conda/lib/python3.5/site-packages/mindboggle/mio/vtks.py\", line 807, in rewrite_scalars\n",
      "    input_vtk = read_vtk(input_vtk)\n",
      "  File \"/opt/conda/lib/python3.5/site-packages/mindboggle/mio/vtks.py\", line 384, in read_vtk\n",
      "    PointData = Data.GetPointData()\n",
      "AttributeError: 'NoneType' object has no attribute 'GetPointData'\n",
      "Interface Function failed to run. \n",
      "\n",
      "170329-15:13:08,598 workflow INFO:\n",
      "\t Executing node Travel_depth.a0 in dir: /home/jovyan/work/data/mindboggling/sub-01/Mindboggle/Surface_shapes/_hemi_lh/Travel_depth\n",
      "170329-15:13:08,635 workflow INFO:\n",
      "\t Collecting precomputed outputs\n",
      "170329-15:13:08,684 workflow INFO:\n",
      "\t Executing node Freesurfer_annot_to_vtk.a0 in dir: /home/jovyan/work/data/mindboggling/sub-01/Mindboggle/Surface_labels/_hemi_lh/Freesurfer_annot_to_vtk\n",
      "170329-15:13:09,330 workflow ERROR:\n",
      "\t ['Node Freesurfer_annot_to_vtk.a0 failed to run on host 23098ca5312f.']\n",
      "170329-15:13:09,332 workflow INFO:\n",
      "\t Saving crash info to /home/jovyan/work/mindboggle/docs/crash-20170329-151309-jovyan-Freesurfer_annot_to_vtk.a0-88619980-b124-45a1-bc81-d014f6f40199.pklz\n",
      "170329-15:13:09,333 workflow INFO:\n",
      "\t Traceback (most recent call last):\n",
      "  File \"/opt/conda/lib/python3.5/site-packages/nipype/pipeline/plugins/linear.py\", line 43, in run\n",
      "    node.run(updatehash=updatehash)\n",
      "  File \"/opt/conda/lib/python3.5/site-packages/nipype/pipeline/engine/nodes.py\", line 366, in run\n",
      "    self._run_interface()\n",
      "  File \"/opt/conda/lib/python3.5/site-packages/nipype/pipeline/engine/nodes.py\", line 476, in _run_interface\n",
      "    self._result = self._run_command(execute)\n",
      "  File \"/opt/conda/lib/python3.5/site-packages/nipype/pipeline/engine/nodes.py\", line 607, in _run_command\n",
      "    result = self._interface.run()\n",
      "  File \"/opt/conda/lib/python3.5/site-packages/nipype/interfaces/base.py\", line 1085, in run\n",
      "    runtime = self._run_wrapper(runtime)\n",
      "  File \"/opt/conda/lib/python3.5/site-packages/nipype/interfaces/base.py\", line 1033, in _run_wrapper\n",
      "    runtime = self._run_interface(runtime)\n",
      "  File \"/opt/conda/lib/python3.5/site-packages/nipype/interfaces/utility/wrappers.py\", line 177, in _run_interface\n",
      "    out = function_handle(**args)\n",
      "  File \"<string>\", line 78, in freesurfer_annot_to_vtk\n",
      "  File \"/opt/conda/lib/python3.5/site-packages/mindboggle/mio/vtks.py\", line 807, in rewrite_scalars\n",
      "    input_vtk = read_vtk(input_vtk)\n",
      "  File \"/opt/conda/lib/python3.5/site-packages/mindboggle/mio/vtks.py\", line 384, in read_vtk\n",
      "    PointData = Data.GetPointData()\n",
      "AttributeError: 'NoneType' object has no attribute 'GetPointData'\n",
      "Interface Function failed to run. \n",
      "\n",
      "170329-15:13:09,386 workflow INFO:\n",
      "\t Executing node Freesurfer_thickness_to_vtk.a0 in dir: /home/jovyan/work/data/mindboggling/sub-01/Mindboggle/Surface_shapes/_hemi_lh/Freesurfer_thickness_to_vtk\n",
      "170329-15:13:09,655 workflow ERROR:\n",
      "\t ['Node Freesurfer_thickness_to_vtk.a0 failed to run on host 23098ca5312f.']\n",
      "170329-15:13:09,656 workflow INFO:\n",
      "\t Saving crash info to /home/jovyan/work/mindboggle/docs/crash-20170329-151309-jovyan-Freesurfer_thickness_to_vtk.a0-f2d7ad81-7815-439a-8fff-ef7065e6b5c9.pklz\n",
      "170329-15:13:09,656 workflow INFO:\n",
      "\t Traceback (most recent call last):\n",
      "  File \"/opt/conda/lib/python3.5/site-packages/nipype/pipeline/plugins/linear.py\", line 43, in run\n",
      "    node.run(updatehash=updatehash)\n",
      "  File \"/opt/conda/lib/python3.5/site-packages/nipype/pipeline/engine/nodes.py\", line 366, in run\n",
      "    self._run_interface()\n",
      "  File \"/opt/conda/lib/python3.5/site-packages/nipype/pipeline/engine/nodes.py\", line 476, in _run_interface\n",
      "    self._result = self._run_command(execute)\n",
      "  File \"/opt/conda/lib/python3.5/site-packages/nipype/pipeline/engine/nodes.py\", line 607, in _run_command\n",
      "    result = self._interface.run()\n",
      "  File \"/opt/conda/lib/python3.5/site-packages/nipype/interfaces/base.py\", line 1085, in run\n",
      "    runtime = self._run_wrapper(runtime)\n",
      "  File \"/opt/conda/lib/python3.5/site-packages/nipype/interfaces/base.py\", line 1033, in _run_wrapper\n",
      "    runtime = self._run_interface(runtime)\n",
      "  File \"/opt/conda/lib/python3.5/site-packages/nipype/interfaces/utility/wrappers.py\", line 177, in _run_interface\n",
      "    out = function_handle(**args)\n",
      "  File \"<string>\", line 53, in freesurfer_curvature_to_vtk\n",
      "  File \"/opt/conda/lib/python3.5/site-packages/mindboggle/mio/vtks.py\", line 807, in rewrite_scalars\n",
      "    input_vtk = read_vtk(input_vtk)\n",
      "  File \"/opt/conda/lib/python3.5/site-packages/mindboggle/mio/vtks.py\", line 384, in read_vtk\n",
      "    PointData = Data.GetPointData()\n",
      "AttributeError: 'NoneType' object has no attribute 'GetPointData'\n",
      "Interface Function failed to run. \n",
      "\n",
      "170329-15:13:09,686 workflow INFO:\n",
      "\t Executing node Geodesic_depth.a0 in dir: /home/jovyan/work/data/mindboggling/sub-01/Mindboggle/Surface_shapes/_hemi_lh/Geodesic_depth\n",
      "170329-15:13:09,716 workflow INFO:\n",
      "\t Collecting precomputed outputs\n",
      "170329-15:13:09,750 workflow INFO:\n",
      "\t Executing node Travel_depth.a1 in dir: /home/jovyan/work/data/mindboggling/sub-01/Mindboggle/Surface_shapes/_hemi_rh/Travel_depth\n",
      "170329-15:13:09,797 workflow INFO:\n",
      "\t Collecting precomputed outputs\n",
      "170329-15:13:09,823 workflow INFO:\n",
      "\t Executing node Depth_threshold.a1 in dir: /home/jovyan/work/data/mindboggling/sub-01/Mindboggle/Surface_features/_hemi_rh/Depth_threshold\n",
      "170329-15:13:10,87 workflow ERROR:\n",
      "\t ['Node Depth_threshold.a1 failed to run on host 23098ca5312f.']\n",
      "170329-15:13:10,90 workflow INFO:\n",
      "\t Saving crash info to /home/jovyan/work/mindboggle/docs/crash-20170329-151310-jovyan-Depth_threshold.a1-9314929c-8486-4a44-873c-a682fa7d9a3c.pklz\n",
      "170329-15:13:10,90 workflow INFO:\n",
      "\t Traceback (most recent call last):\n",
      "  File \"/opt/conda/lib/python3.5/site-packages/nipype/pipeline/plugins/linear.py\", line 43, in run\n",
      "    node.run(updatehash=updatehash)\n",
      "  File \"/opt/conda/lib/python3.5/site-packages/nipype/pipeline/engine/nodes.py\", line 366, in run\n",
      "    self._run_interface()\n",
      "  File \"/opt/conda/lib/python3.5/site-packages/nipype/pipeline/engine/nodes.py\", line 476, in _run_interface\n",
      "    self._result = self._run_command(execute)\n",
      "  File \"/opt/conda/lib/python3.5/site-packages/nipype/pipeline/engine/nodes.py\", line 607, in _run_command\n",
      "    result = self._interface.run()\n",
      "  File \"/opt/conda/lib/python3.5/site-packages/nipype/interfaces/base.py\", line 1085, in run\n",
      "    runtime = self._run_wrapper(runtime)\n",
      "  File \"/opt/conda/lib/python3.5/site-packages/nipype/interfaces/base.py\", line 1033, in _run_wrapper\n",
      "    runtime = self._run_interface(runtime)\n",
      "  File \"/opt/conda/lib/python3.5/site-packages/nipype/interfaces/utility/wrappers.py\", line 177, in _run_interface\n",
      "    out = function_handle(**args)\n",
      "  File \"<string>\", line 91, in find_depth_threshold\n",
      "OSError:   Expecting at least 10000 vertices to create depth histogram\n",
      "Interface Function failed to run. \n",
      "\n",
      "170329-15:13:10,152 workflow INFO:\n",
      "\t Executing node Freesurfer_curv_to_vtk.a0 in dir: /home/jovyan/work/data/mindboggling/sub-01/Mindboggle/Surface_shapes/_hemi_lh/Freesurfer_curv_to_vtk\n",
      "170329-15:13:10,389 workflow ERROR:\n",
      "\t ['Node Freesurfer_curv_to_vtk.a0 failed to run on host 23098ca5312f.']\n",
      "170329-15:13:10,391 workflow INFO:\n",
      "\t Saving crash info to /home/jovyan/work/mindboggle/docs/crash-20170329-151310-jovyan-Freesurfer_curv_to_vtk.a0-e677ac56-7f52-43cf-828e-d7df82554604.pklz\n",
      "170329-15:13:10,391 workflow INFO:\n",
      "\t Traceback (most recent call last):\n",
      "  File \"/opt/conda/lib/python3.5/site-packages/nipype/pipeline/plugins/linear.py\", line 43, in run\n",
      "    node.run(updatehash=updatehash)\n",
      "  File \"/opt/conda/lib/python3.5/site-packages/nipype/pipeline/engine/nodes.py\", line 366, in run\n",
      "    self._run_interface()\n",
      "  File \"/opt/conda/lib/python3.5/site-packages/nipype/pipeline/engine/nodes.py\", line 476, in _run_interface\n",
      "    self._result = self._run_command(execute)\n",
      "  File \"/opt/conda/lib/python3.5/site-packages/nipype/pipeline/engine/nodes.py\", line 607, in _run_command\n",
      "    result = self._interface.run()\n",
      "  File \"/opt/conda/lib/python3.5/site-packages/nipype/interfaces/base.py\", line 1085, in run\n",
      "    runtime = self._run_wrapper(runtime)\n",
      "  File \"/opt/conda/lib/python3.5/site-packages/nipype/interfaces/base.py\", line 1033, in _run_wrapper\n",
      "    runtime = self._run_interface(runtime)\n",
      "  File \"/opt/conda/lib/python3.5/site-packages/nipype/interfaces/utility/wrappers.py\", line 177, in _run_interface\n",
      "    out = function_handle(**args)\n",
      "  File \"<string>\", line 53, in freesurfer_curvature_to_vtk\n",
      "  File \"/opt/conda/lib/python3.5/site-packages/mindboggle/mio/vtks.py\", line 807, in rewrite_scalars\n",
      "    input_vtk = read_vtk(input_vtk)\n",
      "  File \"/opt/conda/lib/python3.5/site-packages/mindboggle/mio/vtks.py\", line 384, in read_vtk\n",
      "    PointData = Data.GetPointData()\n",
      "AttributeError: 'NoneType' object has no attribute 'GetPointData'\n",
      "Interface Function failed to run. \n",
      "\n",
      "170329-15:13:10,404 workflow INFO:\n",
      "\t Executing node Labels_mgh_format in dir: /home/jovyan/work/data/mindboggling/sub-01/Mindboggle/Labels_mgh_format\n",
      "170329-15:13:10,604 workflow INFO:\n",
      "\t Executing node Convert_labels_to_nifti_format in dir: /home/jovyan/work/data/mindboggling/sub-01/Mindboggle/Convert_labels_to_nifti_format\n",
      "170329-15:13:15,603 workflow INFO:\n",
      "\t Executing node Extract_freesurfer_cortex_labels in dir: /home/jovyan/work/data/mindboggling/sub-01/Mindboggle/Volume_labels/Extract_freesurfer_cortex_labels\n",
      "170329-15:13:18,449 workflow INFO:\n",
      "\t Executing node Extract_freesurfer_cerebella in dir: /home/jovyan/work/data/mindboggling/sub-01/Mindboggle/Volume_labels/Extract_freesurfer_cerebella\n",
      "170329-15:13:22,353 workflow INFO:\n",
      "\t Executing node Extract_freesurfer_noncortex_labels in dir: /home/jovyan/work/data/mindboggling/sub-01/Mindboggle/Volume_labels/Extract_freesurfer_noncortex_labels\n",
      "170329-15:13:25,532 workflow INFO:\n",
      "\t Executing node Extract_freesurfer_cerebra in dir: /home/jovyan/work/data/mindboggling/sub-01/Mindboggle/Volume_labels/Extract_freesurfer_cerebra\n",
      "170329-15:13:27,788 workflow INFO:\n",
      "\t Executing node Freesurfer_cerebrum_labels_to_graywhite in dir: /home/jovyan/work/data/mindboggling/sub-01/Mindboggle/Volume_labels/Freesurfer_cerebrum_labels_to_graywhite\n",
      "170329-15:13:33,463 workflow INFO:\n",
      "\t Executing node Fill_cortex_with_freesurfer_labels in dir: /home/jovyan/work/data/mindboggling/sub-01/Mindboggle/Volume_labels/Fill_cortex_with_freesurfer_labels\n",
      "mask: /home/jovyan/work/data/mindboggling/sub-01/Mindboggle/Volume_labels/Freesurfer_cerebrum_labels_to_graywhite/wmparc.mgz.nii.gz, labels: /home/jovyan/work/data/mindboggling/sub-01/Mindboggle/Volume_labels/Extract_freesurfer_cortex_labels/wmparc.mgz.nii.gz\n",
      "170329-15:24:42,847 workflow INFO:\n",
      "\t Executing node Fill_noncortex_with_freesurfer_labels in dir: /home/jovyan/work/data/mindboggling/sub-01/Mindboggle/Volume_labels/Fill_noncortex_with_freesurfer_labels\n",
      "mask: /home/jovyan/work/data/mindboggling/sub-01/Mindboggle/Volume_labels/Freesurfer_cerebrum_labels_to_graywhite/wmparc.mgz.nii.gz, labels: /home/jovyan/work/data/mindboggling/sub-01/Mindboggle/Volume_labels/Extract_freesurfer_noncortex_labels/wmparc.mgz.nii.gz\n",
      "170329-15:49:43,71 workflow INFO:\n",
      "\t Executing node Combine_freesurfer_cortex_noncortex_labels in dir: /home/jovyan/work/data/mindboggling/sub-01/Mindboggle/Volume_labels/Combine_freesurfer_cortex_noncortex_labels\n",
      "170329-15:50:13,255 workflow INFO:\n",
      "\t Executing node Add_freesurfer_cerebellum_to_cerebrum in dir: /home/jovyan/work/data/mindboggling/sub-01/Mindboggle/Volume_labels/Add_freesurfer_cerebellum_to_cerebrum\n",
      "170329-15:50:43,260 workflow INFO:\n",
      "\t Executing node Volume_per_freesurfer_label in dir: /home/jovyan/work/data/mindboggling/sub-01/Mindboggle/Volume_feature_shapes/Volume_per_freesurfer_label\n",
      "ctx-lh-unknown (1000) volume = 474.272mm^3\n",
      "\n",
      "ctx-lh-bankssts (1001) volume = 1599.532mm^3\n",
      "\n",
      "ctx-lh-caudalanteriorcingulate (1002) volume = 922.557mm^3\n",
      "\n",
      "ctx-lh-caudalmiddlefrontal (1003) volume = 2597.452mm^3\n",
      "\n",
      "ctx-lh-cuneus (1005) volume = 2402.546mm^3\n",
      "\n",
      "ctx-lh-entorhinal (1006) volume = 1535.862mm^3\n",
      "\n",
      "ctx-lh-fusiform (1007) volume = 6934.768mm^3\n",
      "\n",
      "ctx-lh-inferiorparietal (1008) volume = 8265.329mm^3\n",
      "\n",
      "ctx-lh-inferiortemporal (1009) volume = 9458.156mm^3\n",
      "\n",
      "ctx-lh-isthmuscingulate (1010) volume = 1221.413mm^3\n",
      "\n",
      "ctx-lh-lateraloccipital (1011) volume = 8026.244mm^3\n",
      "\n",
      "ctx-lh-lateralorbitofrontal (1012) volume = 4988.304mm^3\n",
      "\n",
      "ctx-lh-lingual (1013) volume = 3991.682mm^3\n",
      "\n",
      "ctx-lh-medialorbitofrontal (1014) volume = 4293.138mm^3\n",
      "\n",
      "ctx-lh-middletemporal (1015) volume = 6862.003mm^3\n",
      "\n",
      "ctx-lh-parahippocampal (1016) volume = 1209.719mm^3\n",
      "\n",
      "ctx-lh-paracentral (1017) volume = 2553.273mm^3\n",
      "\n",
      "ctx-lh-parsopercularis (1018) volume = 2697.504mm^3\n",
      "\n",
      "ctx-lh-parsorbitalis (1019) volume = 1235.706mm^3\n",
      "\n",
      "ctx-lh-parstriangularis (1020) volume = 1847.712mm^3\n",
      "\n",
      "ctx-lh-pericalcarine (1021) volume = 1295.478mm^3\n",
      "\n",
      "ctx-lh-postcentral (1022) volume = 6402.024mm^3\n",
      "\n",
      "ctx-lh-posteriorcingulate (1023) volume = 2020.529mm^3\n",
      "\n",
      "ctx-lh-precentral (1024) volume = 9682.948mm^3\n",
      "\n",
      "ctx-lh-precuneus (1025) volume = 5977.129mm^3\n",
      "\n",
      "ctx-lh-rostralanteriorcingulate (1026) volume = 1596.933mm^3\n",
      "\n",
      "ctx-lh-rostralmiddlefrontal (1027) volume = 9929.830mm^3\n",
      "\n",
      "ctx-lh-superiorfrontal (1028) volume = 15844.588mm^3\n",
      "\n",
      "ctx-lh-superiorparietal (1029) volume = 8933.208mm^3\n",
      "\n",
      "ctx-lh-superiortemporal (1030) volume = 8137.990mm^3\n",
      "\n",
      "ctx-lh-supramarginal (1031) volume = 6502.076mm^3\n",
      "\n",
      "ctx-lh-frontalpole (1032) volume = 999.220mm^3\n",
      "\n",
      "ctx-lh-temporalpole (1033) volume = 2471.413mm^3\n",
      "\n",
      "ctx-lh-transversetemporal (1034) volume = 871.881mm^3\n",
      "\n",
      "ctx-lh-insula (1035) volume = 5973.230mm^3\n",
      "\n",
      "Left-Cerebral-White-Matter (2) volume = 49.376mm^3\n",
      "\n",
      "Left-Lateral-Ventricle (4) volume = 8099.009mm^3\n",
      "\n",
      "Left-Inf-Lat-Vent (5) volume = 184.511mm^3\n",
      "\n",
      "Left-Thalamus-Proper (10) volume = 5401.505mm^3\n",
      "\n",
      "Left-Caudate (11) volume = 3008.055mm^3\n",
      "\n",
      "Left-Putamen (12) volume = 4342.514mm^3\n",
      "\n",
      "Left-Pallidum (13) volume = 1830.820mm^3\n",
      "\n",
      "Left-Hippocampus (17) volume = 3086.017mm^3\n",
      "\n",
      "Left-Amygdala (18) volume = 1100.571mm^3\n",
      "\n",
      "Left-Accumbens-area (26) volume = 405.405mm^3\n",
      "\n",
      "Left-VentralDC (28) volume = 2753.377mm^3\n",
      "\n",
      "Left-vessel (30) volume = 63.669mm^3\n",
      "\n",
      "Left-choroid-plexus (31) volume = 1294.178mm^3\n",
      "\n",
      "wm-lh-bankssts (3001) volume = 2412.941mm^3\n",
      "\n",
      "wm-lh-caudalanteriorcingulate (3002) volume = 1836.018mm^3\n",
      "\n",
      "wm-lh-caudalmiddlefrontal (3003) volume = 4740.123mm^3\n",
      "\n",
      "wm-lh-cuneus (3005) volume = 2412.941mm^3\n",
      "\n",
      "wm-lh-entorhinal (3006) volume = 515.852mm^3\n",
      "\n",
      "wm-lh-fusiform (3007) volume = 6207.118mm^3\n",
      "\n",
      "wm-lh-inferiorparietal (3008) volume = 8284.820mm^3\n",
      "\n",
      "wm-lh-inferiortemporal (3009) volume = 5314.447mm^3\n",
      "\n",
      "wm-lh-isthmuscingulate (3010) volume = 2422.036mm^3\n",
      "\n",
      "wm-lh-lateraloccipital (3011) volume = 7167.357mm^3\n",
      "\n",
      "wm-lh-lateralorbitofrontal (3012) volume = 4876.557mm^3\n",
      "\n",
      "wm-lh-lingual (3013) volume = 4104.728mm^3\n",
      "\n",
      "wm-lh-medialorbitofrontal (3014) volume = 3201.662mm^3\n",
      "\n",
      "wm-lh-middletemporal (3015) volume = 4484.146mm^3\n",
      "\n",
      "wm-lh-parahippocampal (3016) volume = 1342.255mm^3\n",
      "\n",
      "wm-lh-paracentral (3017) volume = 3423.855mm^3\n",
      "\n",
      "wm-lh-parsopercularis (3018) volume = 2451.922mm^3\n",
      "\n",
      "wm-lh-parsorbitalis (3019) volume = 560.031mm^3\n",
      "\n",
      "wm-lh-parstriangularis (3020) volume = 2125.779mm^3\n",
      "\n",
      "wm-lh-pericalcarine (3021) volume = 2414.240mm^3\n",
      "\n",
      "wm-lh-postcentral (3022) volume = 6275.985mm^3\n",
      "\n",
      "wm-lh-posteriorcingulate (3023) volume = 3521.308mm^3\n",
      "\n",
      "wm-lh-precentral (3024) volume = 11617.719mm^3\n",
      "\n",
      "wm-lh-precuneus (3025) volume = 7811.847mm^3\n",
      "\n",
      "wm-lh-rostralanteriorcingulate (3026) volume = 2262.213mm^3\n",
      "\n",
      "wm-lh-rostralmiddlefrontal (3027) volume = 9112.522mm^3\n",
      "\n",
      "wm-lh-superiorfrontal (3028) volume = 14037.156mm^3\n",
      "\n",
      "wm-lh-superiorparietal (3029) volume = 9198.281mm^3\n",
      "\n",
      "wm-lh-superiortemporal (3030) volume = 5644.488mm^3\n",
      "\n",
      "wm-lh-supramarginal (3031) volume = 6559.249mm^3\n",
      "\n",
      "wm-lh-frontalpole (3032) volume = 369.023mm^3\n",
      "\n",
      "wm-lh-temporalpole (3033) volume = 492.463mm^3\n",
      "\n",
      "wm-lh-transversetemporal (3034) volume = 676.975mm^3\n",
      "\n",
      "wm-lh-insula (3035) volume = 6703.480mm^3\n",
      "\n",
      "Left-UnsegmentedWhiteMatter (5001) volume = 18803.267mm^3\n",
      "\n",
      "ctx-rh-unknown (2000) volume = 1438.409mm^3\n",
      "\n",
      "ctx-rh-bankssts (2001) volume = 1720.374mm^3\n",
      "\n",
      "ctx-rh-caudalanteriorcingulate (2002) volume = 1911.382mm^3\n",
      "\n",
      "ctx-rh-caudalmiddlefrontal (2003) volume = 3343.294mm^3\n",
      "\n",
      "ctx-rh-cuneus (2005) volume = 1954.261mm^3\n",
      "\n",
      "ctx-rh-entorhinal (2006) volume = 886.174mm^3\n",
      "\n",
      "ctx-rh-fusiform (2007) volume = 6686.588mm^3\n",
      "\n",
      "ctx-rh-inferiorparietal (2008) volume = 9753.115mm^3\n",
      "\n",
      "ctx-rh-inferiortemporal (2009) volume = 8047.034mm^3\n",
      "\n",
      "ctx-rh-isthmuscingulate (2010) volume = 1291.580mm^3\n",
      "\n",
      "ctx-rh-lateraloccipital (2011) volume = 7424.633mm^3\n",
      "\n",
      "ctx-rh-lateralorbitofrontal (2012) volume = 4100.830mm^3\n",
      "\n",
      "ctx-rh-lingual (2013) volume = 4011.173mm^3\n",
      "\n",
      "ctx-rh-medialorbitofrontal (2014) volume = 4103.429mm^3\n",
      "\n",
      "ctx-rh-middletemporal (2015) volume = 7985.963mm^3\n",
      "\n",
      "ctx-rh-parahippocampal (2016) volume = 1309.771mm^3\n",
      "\n",
      "ctx-rh-paracentral (2017) volume = 2633.835mm^3\n",
      "\n",
      "ctx-rh-parsopercularis (2018) volume = 2088.097mm^3\n",
      "\n",
      "ctx-rh-parsorbitalis (2019) volume = 1651.507mm^3\n",
      "\n",
      "ctx-rh-parstriangularis (2020) volume = 2422.036mm^3\n",
      "\n",
      "ctx-rh-pericalcarine (2021) volume = 1439.708mm^3\n",
      "\n",
      "ctx-rh-postcentral (2022) volume = 5383.314mm^3\n",
      "\n",
      "ctx-rh-posteriorcingulate (2023) volume = 1865.904mm^3\n",
      "\n",
      "ctx-rh-precentral (2024) volume = 8115.901mm^3\n",
      "\n",
      "ctx-rh-precuneus (2025) volume = 6327.960mm^3\n",
      "\n",
      "ctx-rh-rostralanteriorcingulate (2026) volume = 1455.301mm^3\n",
      "\n",
      "ctx-rh-rostralmiddlefrontal (2027) volume = 9736.223mm^3\n",
      "\n",
      "ctx-rh-superiorfrontal (2028) volume = 14438.664mm^3\n",
      "\n",
      "ctx-rh-superiorparietal (2029) volume = 8613.562mm^3\n",
      "\n",
      "ctx-rh-superiortemporal (2030) volume = 7258.313mm^3\n",
      "\n",
      "ctx-rh-supramarginal (2031) volume = 6437.108mm^3\n",
      "\n",
      "ctx-rh-frontalpole (2032) volume = 1114.864mm^3\n",
      "\n",
      "ctx-rh-temporalpole (2033) volume = 2510.394mm^3\n",
      "\n",
      "ctx-rh-transversetemporal (2034) volume = 826.403mm^3\n",
      "\n",
      "ctx-rh-insula (2035) volume = 5152.025mm^3\n",
      "\n",
      "Right-Cerebral-White-Matter (41) volume = 107.848mm^3\n",
      "\n",
      "Right-Lateral-Ventricle (43) volume = 7572.762mm^3\n",
      "\n",
      "Right-Inf-Lat-Vent (44) volume = 120.842mm^3\n",
      "\n",
      "Right-Thalamus-Proper (49) volume = 5179.312mm^3\n",
      "\n",
      "Right-Caudate (50) volume = 3179.573mm^3\n",
      "\n",
      "Right-Putamen (51) volume = 4961.017mm^3\n",
      "\n",
      "Right-Pallidum (52) volume = 1621.621mm^3\n",
      "\n",
      "Right-Hippocampus (53) volume = 3127.597mm^3\n",
      "\n",
      "Right-Amygdala (54) volume = 1629.417mm^3\n",
      "\n",
      "Right-Accumbens-area (58) volume = 545.738mm^3\n",
      "\n",
      "Right-VentralDC (60) volume = 3034.042mm^3\n",
      "\n",
      "Right-vessel (62) volume = 76.663mm^3\n",
      "\n",
      "Right-choroid-plexus (63) volume = 1674.895mm^3\n",
      "\n",
      "wm-rh-bankssts (4001) volume = 2572.764mm^3\n",
      "\n",
      "wm-rh-caudalanteriorcingulate (4002) volume = 2468.814mm^3\n",
      "\n",
      "wm-rh-caudalmiddlefrontal (4003) volume = 4923.335mm^3\n",
      "\n",
      "wm-rh-cuneus (4005) volume = 1939.968mm^3\n",
      "\n",
      "wm-rh-entorhinal (4006) volume = 420.998mm^3\n",
      "\n",
      "wm-rh-fusiform (4007) volume = 5958.937mm^3\n",
      "\n",
      "wm-rh-inferiorparietal (4008) volume = 9226.867mm^3\n",
      "\n",
      "wm-rh-inferiortemporal (4009) volume = 4610.185mm^3\n",
      "\n",
      "wm-rh-isthmuscingulate (4010) volume = 2172.556mm^3\n",
      "\n",
      "wm-rh-lateraloccipital (4011) volume = 6754.155mm^3\n",
      "\n",
      "wm-rh-lateralorbitofrontal (4012) volume = 4208.678mm^3\n",
      "\n",
      "wm-rh-lingual (4013) volume = 4056.651mm^3\n",
      "\n",
      "wm-rh-medialorbitofrontal (4014) volume = 3247.140mm^3\n",
      "\n",
      "wm-rh-middletemporal (4015) volume = 4558.210mm^3\n",
      "\n",
      "wm-rh-parahippocampal (4016) volume = 1343.555mm^3\n",
      "\n",
      "wm-rh-paracentral (4017) volume = 4354.208mm^3\n",
      "\n",
      "wm-rh-parsopercularis (4018) volume = 1967.255mm^3\n",
      "\n",
      "wm-rh-parsorbitalis (4019) volume = 740.644mm^3\n",
      "\n",
      "wm-rh-parstriangularis (4020) volume = 2276.506mm^3\n",
      "\n",
      "wm-rh-pericalcarine (4021) volume = 2273.908mm^3\n",
      "\n",
      "wm-rh-postcentral (4022) volume = 6252.596mm^3\n",
      "\n",
      "wm-rh-posteriorcingulate (4023) volume = 3301.714mm^3\n",
      "\n",
      "wm-rh-precentral (4024) volume = 11203.218mm^3\n",
      "\n",
      "wm-rh-precuneus (4025) volume = 7770.267mm^3\n",
      "\n",
      "wm-rh-rostralanteriorcingulate (4026) volume = 1724.272mm^3\n",
      "\n",
      "wm-rh-rostralmiddlefrontal (4027) volume = 9847.969mm^3\n",
      "\n",
      "wm-rh-superiorfrontal (4028) volume = 14103.425mm^3\n",
      "\n",
      "wm-rh-superiorparietal (4029) volume = 9571.202mm^3\n",
      "\n",
      "wm-rh-superiortemporal (4030) volume = 5375.518mm^3\n",
      "\n",
      "wm-rh-supramarginal (4031) volume = 6816.525mm^3\n",
      "\n",
      "wm-rh-frontalpole (4032) volume = 420.998mm^3\n",
      "\n",
      "wm-rh-temporalpole (4033) volume = 532.744mm^3\n",
      "\n",
      "wm-rh-transversetemporal (4034) volume = 658.784mm^3\n",
      "\n",
      "wm-rh-insula (4035) volume = 6771.047mm^3\n",
      "\n",
      "Right-UnsegmentedWhiteMatter (5002) volume = 18610.959mm^3\n",
      "\n",
      "Brain-Stem (16) volume = 15691.262mm^3\n",
      "\n",
      "CSF (24) volume = 1004.417mm^3\n",
      "\n",
      "Optic-Chiasm (85) volume = 254.678mm^3\n",
      "\n",
      "170329-15:50:47,1 workflow INFO:\n",
      "\t Executing node Thickness_per_freesurfer_cortex_label in dir: /home/jovyan/work/data/mindboggling/sub-01/Mindboggle/Volume_feature_shapes/Thickness_per_freesurfer_cortex_label\n",
      " spacing [1, 1.29938, 1] dim 3\n",
      " spacing2 [0.5, 0.5, 0.5]\n",
      " out space [0.5, 0.5, 0.5]\n",
      " output size [512, 405, 512] spc [0.5, 0.5, 0.5]\n",
      " spacing [1, 1.29938, 1] dim 3\n",
      " spacing2 [0.5, 0.5, 0.5]\n",
      " out space [0.5, 0.5, 0.5]\n",
      " output size [512, 405, 512] spc [0.5, 0.5, 0.5]\n",
      "ctx-lh-unknown (1000) thickinthehead thickness = 1.94mm\n",
      "ctx-lh-bankssts (1001) thickinthehead thickness = 2.02mm\n",
      "ctx-lh-caudalanteriorcingulate (1002) thickinthehead thickness = 2.30mm\n",
      "ctx-lh-caudalmiddlefrontal (1003) thickinthehead thickness = 1.97mm\n",
      "ctx-lh-cuneus (1005) thickinthehead thickness = 1.90mm\n",
      "ctx-lh-entorhinal (1006) thickinthehead thickness = 3.11mm\n",
      "ctx-lh-fusiform (1007) thickinthehead thickness = 2.36mm\n",
      "ctx-lh-inferiorparietal (1008) thickinthehead thickness = 2.28mm\n",
      "ctx-lh-inferiortemporal (1009) thickinthehead thickness = 2.87mm\n",
      "ctx-lh-isthmuscingulate (1010) thickinthehead thickness = 2.33mm\n",
      "ctx-lh-lateraloccipital (1011) thickinthehead thickness = 2.24mm\n",
      "ctx-lh-lateralorbitofrontal (1012) thickinthehead thickness = 2.64mm\n",
      "ctx-lh-lingual (1013) thickinthehead thickness = 2.02mm\n",
      "ctx-lh-medialorbitofrontal (1014) thickinthehead thickness = 2.44mm\n",
      "ctx-lh-middletemporal (1015) thickinthehead thickness = 2.48mm\n",
      "ctx-lh-parahippocampal (1016) thickinthehead thickness = 1.98mm\n",
      "ctx-lh-paracentral (1017) thickinthehead thickness = 2.21mm\n",
      "ctx-lh-parsopercularis (1018) thickinthehead thickness = 2.21mm\n",
      "ctx-lh-parsorbitalis (1019) thickinthehead thickness = 2.50mm\n",
      "ctx-lh-parstriangularis (1020) thickinthehead thickness = 1.94mm\n",
      "ctx-lh-pericalcarine (1021) thickinthehead thickness = 1.81mm\n",
      "ctx-lh-postcentral (1022) thickinthehead thickness = 1.98mm\n",
      "ctx-lh-posteriorcingulate (1023) thickinthehead thickness = 2.15mm\n",
      "ctx-lh-precentral (1024) thickinthehead thickness = 2.23mm\n",
      "ctx-lh-precuneus (1025) thickinthehead thickness = 2.12mm\n",
      "ctx-lh-rostralanteriorcingulate (1026) thickinthehead thickness = 2.44mm\n",
      "ctx-lh-rostralmiddlefrontal (1027) thickinthehead thickness = 2.16mm\n",
      "ctx-lh-superiorfrontal (1028) thickinthehead thickness = 2.32mm\n",
      "ctx-lh-superiorparietal (1029) thickinthehead thickness = 2.00mm\n",
      "ctx-lh-superiortemporal (1030) thickinthehead thickness = 2.42mm\n",
      "ctx-lh-supramarginal (1031) thickinthehead thickness = 2.28mm\n",
      "ctx-lh-frontalpole (1032) thickinthehead thickness = 2.51mm\n",
      "ctx-lh-temporalpole (1033) thickinthehead thickness = 3.83mm\n",
      "ctx-lh-transversetemporal (1034) thickinthehead thickness = 1.97mm\n",
      "ctx-lh-insula (1035) thickinthehead thickness = 3.27mm\n",
      "ctx-rh-unknown (2000) thickinthehead thickness = 2.18mm\n",
      "ctx-rh-bankssts (2001) thickinthehead thickness = 2.27mm\n",
      "ctx-rh-caudalanteriorcingulate (2002) thickinthehead thickness = 2.70mm\n",
      "ctx-rh-caudalmiddlefrontal (2003) thickinthehead thickness = 1.95mm\n",
      "ctx-rh-cuneus (2005) thickinthehead thickness = 1.84mm\n",
      "ctx-rh-entorhinal (2006) thickinthehead thickness = 2.62mm\n",
      "ctx-rh-fusiform (2007) thickinthehead thickness = 2.25mm\n",
      "ctx-rh-inferiorparietal (2008) thickinthehead thickness = 2.27mm\n",
      "ctx-rh-inferiortemporal (2009) thickinthehead thickness = 2.72mm\n",
      "ctx-rh-isthmuscingulate (2010) thickinthehead thickness = 2.47mm\n",
      "ctx-rh-lateraloccipital (2011) thickinthehead thickness = 2.17mm\n",
      "ctx-rh-lateralorbitofrontal (2012) thickinthehead thickness = 2.53mm\n",
      "ctx-rh-lingual (2013) thickinthehead thickness = 2.02mm\n",
      "ctx-rh-medialorbitofrontal (2014) thickinthehead thickness = 2.74mm\n",
      "ctx-rh-middletemporal (2015) thickinthehead thickness = 2.52mm\n",
      "ctx-rh-parahippocampal (2016) thickinthehead thickness = 2.17mm\n",
      "ctx-rh-paracentral (2017) thickinthehead thickness = 1.95mm\n",
      "ctx-rh-parsopercularis (2018) thickinthehead thickness = 2.17mm\n",
      "ctx-rh-parsorbitalis (2019) thickinthehead thickness = 2.53mm\n",
      "ctx-rh-parstriangularis (2020) thickinthehead thickness = 2.10mm\n",
      "ctx-rh-pericalcarine (2021) thickinthehead thickness = 1.78mm\n",
      "ctx-rh-postcentral (2022) thickinthehead thickness = 1.90mm\n",
      "ctx-rh-posteriorcingulate (2023) thickinthehead thickness = 2.06mm\n",
      "ctx-rh-precentral (2024) thickinthehead thickness = 2.10mm\n",
      "ctx-rh-precuneus (2025) thickinthehead thickness = 2.17mm\n",
      "ctx-rh-rostralanteriorcingulate (2026) thickinthehead thickness = 3.03mm\n",
      "ctx-rh-rostralmiddlefrontal (2027) thickinthehead thickness = 2.00mm\n",
      "ctx-rh-superiorfrontal (2028) thickinthehead thickness = 2.35mm\n",
      "ctx-rh-superiorparietal (2029) thickinthehead thickness = 1.92mm\n",
      "ctx-rh-superiortemporal (2030) thickinthehead thickness = 2.27mm\n",
      "ctx-rh-supramarginal (2031) thickinthehead thickness = 2.22mm\n",
      "ctx-rh-frontalpole (2032) thickinthehead thickness = 2.53mm\n",
      "ctx-rh-temporalpole (2033) thickinthehead thickness = 4.00mm\n",
      "ctx-rh-transversetemporal (2034) thickinthehead thickness = 2.00mm\n",
      "ctx-rh-insula (2035) thickinthehead thickness = 3.11mm\n",
      "170329-15:53:16,524 workflow INFO:\n",
      "\t Executing node Convert_MRI_to_nifti_format in dir: /home/jovyan/work/data/mindboggling/sub-01/Mindboggle/Convert_MRI_to_nifti_format\n",
      "170329-15:53:25,763 workflow INFO:\n",
      "\t Executing node Depth_threshold.a0 in dir: /home/jovyan/work/data/mindboggling/sub-01/Mindboggle/Surface_features/_hemi_lh/Depth_threshold\n",
      "170329-15:53:25,896 workflow ERROR:\n",
      "\t ['Node Depth_threshold.a0 failed to run on host 23098ca5312f.']\n",
      "170329-15:53:25,903 workflow INFO:\n",
      "\t Saving crash info to /home/jovyan/work/mindboggle/docs/crash-20170329-155325-jovyan-Depth_threshold.a0-27878dd2-2e7b-4cc2-9605-3ea737b15d9f.pklz\n",
      "170329-15:53:25,903 workflow INFO:\n",
      "\t Traceback (most recent call last):\n",
      "  File \"/opt/conda/lib/python3.5/site-packages/nipype/pipeline/plugins/linear.py\", line 43, in run\n",
      "    node.run(updatehash=updatehash)\n",
      "  File \"/opt/conda/lib/python3.5/site-packages/nipype/pipeline/engine/nodes.py\", line 366, in run\n",
      "    self._run_interface()\n",
      "  File \"/opt/conda/lib/python3.5/site-packages/nipype/pipeline/engine/nodes.py\", line 476, in _run_interface\n",
      "    self._result = self._run_command(execute)\n",
      "  File \"/opt/conda/lib/python3.5/site-packages/nipype/pipeline/engine/nodes.py\", line 607, in _run_command\n",
      "    result = self._interface.run()\n",
      "  File \"/opt/conda/lib/python3.5/site-packages/nipype/interfaces/base.py\", line 1085, in run\n",
      "    runtime = self._run_wrapper(runtime)\n",
      "  File \"/opt/conda/lib/python3.5/site-packages/nipype/interfaces/base.py\", line 1033, in _run_wrapper\n",
      "    runtime = self._run_interface(runtime)\n",
      "  File \"/opt/conda/lib/python3.5/site-packages/nipype/interfaces/utility/wrappers.py\", line 177, in _run_interface\n",
      "    out = function_handle(**args)\n",
      "  File \"<string>\", line 91, in find_depth_threshold\n",
      "OSError:   Expecting at least 10000 vertices to create depth histogram\n",
      "Interface Function failed to run. \n",
      "\n",
      "170329-15:53:25,917 workflow INFO:\n",
      "\t Executing node Surface_area.a0 in dir: /home/jovyan/work/data/mindboggling/sub-01/Mindboggle/Surface_shapes/_hemi_lh/Surface_area\n",
      "170329-15:53:25,934 workflow INFO:\n",
      "\t Collecting precomputed outputs\n",
      "170329-15:53:25,942 workflow INFO:\n",
      "\t ***********************************\n",
      "170329-15:53:25,942 workflow ERROR:\n",
      "\t could not run node: Mindboggle.Surface_shapes.Freesurfer_sulc_to_vtk.a1\n",
      "170329-15:53:25,942 workflow INFO:\n",
      "\t crashfile: /home/jovyan/work/mindboggle/docs/crash-20170329-151306-jovyan-Freesurfer_sulc_to_vtk.a1-977e4e93-8e73-4cfc-bd59-03ecc349c59e.pklz\n",
      "170329-15:53:25,942 workflow ERROR:\n",
      "\t could not run node: Mindboggle.Surface_shapes.Freesurfer_thickness_to_vtk.a1\n",
      "170329-15:53:25,942 workflow INFO:\n",
      "\t crashfile: /home/jovyan/work/mindboggle/docs/crash-20170329-151306-jovyan-Freesurfer_thickness_to_vtk.a1-6685bd4e-50d8-48ed-b2c6-394d3c21acd9.pklz\n",
      "170329-15:53:25,942 workflow ERROR:\n",
      "\t could not run node: Mindboggle.Surface_shapes.Freesurfer_curv_to_vtk.a1\n",
      "170329-15:53:25,942 workflow INFO:\n",
      "\t crashfile: /home/jovyan/work/mindboggle/docs/crash-20170329-151307-jovyan-Freesurfer_curv_to_vtk.a1-d95b496a-5852-4ad8-8760-0ccf9927b194.pklz\n",
      "170329-15:53:25,943 workflow ERROR:\n",
      "\t could not run node: Mindboggle.Surface_labels.Freesurfer_annot_to_vtk.a1\n",
      "170329-15:53:25,943 workflow INFO:\n",
      "\t crashfile: /home/jovyan/work/mindboggle/docs/crash-20170329-151307-jovyan-Freesurfer_annot_to_vtk.a1-bf5042e8-02fe-457b-9cde-1ac6343719cd.pklz\n",
      "170329-15:53:25,943 workflow ERROR:\n",
      "\t could not run node: Mindboggle.Surface_shapes.Freesurfer_sulc_to_vtk.a0\n",
      "170329-15:53:25,943 workflow INFO:\n",
      "\t crashfile: /home/jovyan/work/mindboggle/docs/crash-20170329-151308-jovyan-Freesurfer_sulc_to_vtk.a0-4101a1a1-dd5e-49f1-a22f-2387c71e748a.pklz\n",
      "170329-15:53:25,943 workflow ERROR:\n",
      "\t could not run node: Mindboggle.Surface_labels.Freesurfer_annot_to_vtk.a0\n",
      "170329-15:53:25,943 workflow INFO:\n",
      "\t crashfile: /home/jovyan/work/mindboggle/docs/crash-20170329-151309-jovyan-Freesurfer_annot_to_vtk.a0-88619980-b124-45a1-bc81-d014f6f40199.pklz\n",
      "170329-15:53:25,943 workflow ERROR:\n",
      "\t could not run node: Mindboggle.Surface_shapes.Freesurfer_thickness_to_vtk.a0\n",
      "170329-15:53:25,943 workflow INFO:\n",
      "\t crashfile: /home/jovyan/work/mindboggle/docs/crash-20170329-151309-jovyan-Freesurfer_thickness_to_vtk.a0-f2d7ad81-7815-439a-8fff-ef7065e6b5c9.pklz\n",
      "170329-15:53:25,943 workflow ERROR:\n",
      "\t could not run node: Mindboggle.Surface_features.Depth_threshold.a1\n",
      "170329-15:53:25,943 workflow INFO:\n",
      "\t crashfile: /home/jovyan/work/mindboggle/docs/crash-20170329-151310-jovyan-Depth_threshold.a1-9314929c-8486-4a44-873c-a682fa7d9a3c.pklz\n",
      "170329-15:53:25,943 workflow ERROR:\n",
      "\t could not run node: Mindboggle.Surface_shapes.Freesurfer_curv_to_vtk.a0\n",
      "170329-15:53:25,944 workflow INFO:\n",
      "\t crashfile: /home/jovyan/work/mindboggle/docs/crash-20170329-151310-jovyan-Freesurfer_curv_to_vtk.a0-e677ac56-7f52-43cf-828e-d7df82554604.pklz\n",
      "170329-15:53:25,944 workflow ERROR:\n",
      "\t could not run node: Mindboggle.Surface_features.Depth_threshold.a0\n",
      "170329-15:53:25,944 workflow INFO:\n",
      "\t crashfile: /home/jovyan/work/mindboggle/docs/crash-20170329-155325-jovyan-Depth_threshold.a0-27878dd2-2e7b-4cc2-9605-3ea737b15d9f.pklz\n",
      "170329-15:53:25,944 workflow INFO:\n",
      "\t ***********************************\n"
     ]
    },
    {
     "name": "stderr",
     "output_type": "stream",
     "text": [
      "ERROR: In ../IO/Legacy/vtkDataReader.cxx, line 430\n",
      "vtkDataSetReader (0x3d69640): Unable to open file: /home/jovyan/work/data/data/mindboggling/sub-01/Mindboggle/_hemi_rh/Surface_to_vtk/rh.pial.vtk\n",
      "\n",
      "ERROR: In ../Common/ExecutionModel/vtkExecutive.cxx, line 784\n",
      "vtkCompositeDataPipeline (0x4339860): Algorithm vtkDataSetReader(0x3d69640) returned failure for request: vtkInformation (0x3ac3f00)\n",
      "  Debug: Off\n",
      "  Modified Time: 94\n",
      "  Reference Count: 1\n",
      "  Registered Events: (none)\n",
      "  Request: REQUEST_DATA_OBJECT\n",
      "  ALGORITHM_AFTER_FORWARD: 1\n",
      "  FORWARD_DIRECTION: 0\n",
      "\n",
      "\n",
      "\n",
      "ERROR: In ../IO/Legacy/vtkDataReader.cxx, line 430\n",
      "vtkDataSetReader (0x3d69640): Unable to open file: /home/jovyan/work/data/data/mindboggling/sub-01/Mindboggle/_hemi_rh/Surface_to_vtk/rh.pial.vtk\n",
      "\n",
      "ERROR: In ../Common/ExecutionModel/vtkExecutive.cxx, line 784\n",
      "vtkCompositeDataPipeline (0x4339860): Algorithm vtkDataSetReader(0x3d69640) returned failure for request: vtkInformation (0x3ac3f00)\n",
      "  Debug: Off\n",
      "  Modified Time: 94\n",
      "  Reference Count: 1\n",
      "  Registered Events: (none)\n",
      "  Request: REQUEST_DATA_OBJECT\n",
      "  ALGORITHM_AFTER_FORWARD: 1\n",
      "  FORWARD_DIRECTION: 0\n",
      "\n",
      "\n",
      "\n",
      "ERROR: In ../IO/Legacy/vtkDataReader.cxx, line 430\n",
      "vtkDataSetReader (0x43480d0): Unable to open file: /home/jovyan/work/data/data/mindboggling/sub-01/Mindboggle/_hemi_rh/Surface_to_vtk/rh.pial.vtk\n",
      "\n",
      "ERROR: In ../Common/ExecutionModel/vtkExecutive.cxx, line 784\n",
      "vtkCompositeDataPipeline (0x4348620): Algorithm vtkDataSetReader(0x43480d0) returned failure for request: vtkInformation (0x434a810)\n",
      "  Debug: Off\n",
      "  Modified Time: 133\n",
      "  Reference Count: 1\n",
      "  Registered Events: (none)\n",
      "  Request: REQUEST_DATA_OBJECT\n",
      "  ALGORITHM_AFTER_FORWARD: 1\n",
      "  FORWARD_DIRECTION: 0\n",
      "\n",
      "\n",
      "\n",
      "ERROR: In ../IO/Legacy/vtkDataReader.cxx, line 430\n",
      "vtkDataSetReader (0x43480d0): Unable to open file: /home/jovyan/work/data/data/mindboggling/sub-01/Mindboggle/_hemi_rh/Surface_to_vtk/rh.pial.vtk\n",
      "\n",
      "ERROR: In ../Common/ExecutionModel/vtkExecutive.cxx, line 784\n",
      "vtkCompositeDataPipeline (0x4348620): Algorithm vtkDataSetReader(0x43480d0) returned failure for request: vtkInformation (0x434a810)\n",
      "  Debug: Off\n",
      "  Modified Time: 133\n",
      "  Reference Count: 1\n",
      "  Registered Events: (none)\n",
      "  Request: REQUEST_DATA_OBJECT\n",
      "  ALGORITHM_AFTER_FORWARD: 1\n",
      "  FORWARD_DIRECTION: 0\n",
      "\n",
      "\n",
      "\n",
      "ERROR: In ../IO/Legacy/vtkDataReader.cxx, line 430\n",
      "vtkDataSetReader (0x437e9a0): Unable to open file: /home/jovyan/work/data/data/mindboggling/sub-01/Mindboggle/_hemi_rh/Surface_to_vtk/rh.pial.vtk\n",
      "\n",
      "ERROR: In ../Common/ExecutionModel/vtkExecutive.cxx, line 784\n",
      "vtkCompositeDataPipeline (0x3b354b0): Algorithm vtkDataSetReader(0x437e9a0) returned failure for request: vtkInformation (0x4380f70)\n",
      "  Debug: Off\n",
      "  Modified Time: 171\n",
      "  Reference Count: 1\n",
      "  Registered Events: (none)\n",
      "  Request: REQUEST_DATA_OBJECT\n",
      "  ALGORITHM_AFTER_FORWARD: 1\n",
      "  FORWARD_DIRECTION: 0\n",
      "\n",
      "\n",
      "\n",
      "ERROR: In ../IO/Legacy/vtkDataReader.cxx, line 430\n",
      "vtkDataSetReader (0x437e9a0): Unable to open file: /home/jovyan/work/data/data/mindboggling/sub-01/Mindboggle/_hemi_rh/Surface_to_vtk/rh.pial.vtk\n",
      "\n",
      "ERROR: In ../Common/ExecutionModel/vtkExecutive.cxx, line 784\n",
      "vtkCompositeDataPipeline (0x3b354b0): Algorithm vtkDataSetReader(0x437e9a0) returned failure for request: vtkInformation (0x4380f70)\n",
      "  Debug: Off\n",
      "  Modified Time: 171\n",
      "  Reference Count: 1\n",
      "  Registered Events: (none)\n",
      "  Request: REQUEST_DATA_OBJECT\n",
      "  ALGORITHM_AFTER_FORWARD: 1\n",
      "  FORWARD_DIRECTION: 0\n",
      "\n",
      "\n",
      "\n",
      "ERROR: In ../IO/Legacy/vtkDataReader.cxx, line 430\n",
      "vtkDataSetReader (0x4358fb0): Unable to open file: /home/jovyan/work/data/data/mindboggling/sub-01/Mindboggle/_hemi_rh/Surface_to_vtk/rh.pial.vtk\n",
      "\n",
      "ERROR: In ../Common/ExecutionModel/vtkExecutive.cxx, line 784\n",
      "vtkCompositeDataPipeline (0x4359b80): Algorithm vtkDataSetReader(0x4358fb0) returned failure for request: vtkInformation (0x4354d60)\n",
      "  Debug: Off\n",
      "  Modified Time: 209\n",
      "  Reference Count: 1\n",
      "  Registered Events: (none)\n",
      "  Request: REQUEST_DATA_OBJECT\n",
      "  ALGORITHM_AFTER_FORWARD: 1\n",
      "  FORWARD_DIRECTION: 0\n",
      "\n",
      "\n",
      "\n",
      "ERROR: In ../IO/Legacy/vtkDataReader.cxx, line 430\n",
      "vtkDataSetReader (0x4358fb0): Unable to open file: /home/jovyan/work/data/data/mindboggling/sub-01/Mindboggle/_hemi_rh/Surface_to_vtk/rh.pial.vtk\n",
      "\n",
      "ERROR: In ../Common/ExecutionModel/vtkExecutive.cxx, line 784\n",
      "vtkCompositeDataPipeline (0x4359b80): Algorithm vtkDataSetReader(0x4358fb0) returned failure for request: vtkInformation (0x4354d60)\n",
      "  Debug: Off\n",
      "  Modified Time: 209\n",
      "  Reference Count: 1\n",
      "  Registered Events: (none)\n",
      "  Request: REQUEST_DATA_OBJECT\n",
      "  ALGORITHM_AFTER_FORWARD: 1\n",
      "  FORWARD_DIRECTION: 0\n",
      "\n",
      "\n",
      "\n",
      "ERROR: In ../IO/Legacy/vtkDataReader.cxx, line 430\n",
      "vtkDataSetReader (0x4364580): Unable to open file: /home/jovyan/work/data/data/mindboggling/sub-01/Mindboggle/_hemi_lh/Surface_to_vtk/lh.pial.vtk\n",
      "\n",
      "ERROR: In ../Common/ExecutionModel/vtkExecutive.cxx, line 784\n",
      "vtkCompositeDataPipeline (0x435b210): Algorithm vtkDataSetReader(0x4364580) returned failure for request: vtkInformation (0x3a73bd0)\n",
      "  Debug: Off\n",
      "  Modified Time: 247\n",
      "  Reference Count: 1\n",
      "  Registered Events: (none)\n",
      "  Request: REQUEST_DATA_OBJECT\n",
      "  ALGORITHM_AFTER_FORWARD: 1\n",
      "  FORWARD_DIRECTION: 0\n",
      "\n",
      "\n",
      "\n",
      "ERROR: In ../IO/Legacy/vtkDataReader.cxx, line 430\n",
      "vtkDataSetReader (0x4364580): Unable to open file: /home/jovyan/work/data/data/mindboggling/sub-01/Mindboggle/_hemi_lh/Surface_to_vtk/lh.pial.vtk\n",
      "\n",
      "ERROR: In ../Common/ExecutionModel/vtkExecutive.cxx, line 784\n",
      "vtkCompositeDataPipeline (0x435b210): Algorithm vtkDataSetReader(0x4364580) returned failure for request: vtkInformation (0x3a73bd0)\n",
      "  Debug: Off\n",
      "  Modified Time: 247\n",
      "  Reference Count: 1\n",
      "  Registered Events: (none)\n",
      "  Request: REQUEST_DATA_OBJECT\n",
      "  ALGORITHM_AFTER_FORWARD: 1\n",
      "  FORWARD_DIRECTION: 0\n",
      "\n",
      "\n",
      "\n",
      "ERROR: In ../IO/Legacy/vtkDataReader.cxx, line 430\n",
      "vtkDataSetReader (0x3acd3d0): Unable to open file: /home/jovyan/work/data/data/mindboggling/sub-01/Mindboggle/_hemi_lh/Surface_to_vtk/lh.pial.vtk\n",
      "\n",
      "ERROR: In ../Common/ExecutionModel/vtkExecutive.cxx, line 784\n",
      "vtkCompositeDataPipeline (0x4369c80): Algorithm vtkDataSetReader(0x3acd3d0) returned failure for request: vtkInformation (0x436ade0)\n",
      "  Debug: Off\n",
      "  Modified Time: 285\n",
      "  Reference Count: 1\n",
      "  Registered Events: (none)\n",
      "  Request: REQUEST_DATA_OBJECT\n",
      "  ALGORITHM_AFTER_FORWARD: 1\n",
      "  FORWARD_DIRECTION: 0\n",
      "\n",
      "\n",
      "\n",
      "ERROR: In ../IO/Legacy/vtkDataReader.cxx, line 430\n",
      "vtkDataSetReader (0x3acd3d0): Unable to open file: /home/jovyan/work/data/data/mindboggling/sub-01/Mindboggle/_hemi_lh/Surface_to_vtk/lh.pial.vtk\n",
      "\n",
      "ERROR: In ../Common/ExecutionModel/vtkExecutive.cxx, line 784\n",
      "vtkCompositeDataPipeline (0x4369c80): Algorithm vtkDataSetReader(0x3acd3d0) returned failure for request: vtkInformation (0x436ade0)\n",
      "  Debug: Off\n",
      "  Modified Time: 285\n",
      "  Reference Count: 1\n",
      "  Registered Events: (none)\n",
      "  Request: REQUEST_DATA_OBJECT\n",
      "  ALGORITHM_AFTER_FORWARD: 1\n",
      "  FORWARD_DIRECTION: 0\n",
      "\n",
      "\n",
      "\n",
      "ERROR: In ../IO/Legacy/vtkDataReader.cxx, line 430\n",
      "vtkDataSetReader (0x4373840): Unable to open file: /home/jovyan/work/data/data/mindboggling/sub-01/Mindboggle/_hemi_lh/Surface_to_vtk/lh.pial.vtk\n",
      "\n",
      "ERROR: In ../Common/ExecutionModel/vtkExecutive.cxx, line 784\n",
      "vtkCompositeDataPipeline (0x436ccd0): Algorithm vtkDataSetReader(0x4373840) returned failure for request: vtkInformation (0x4375bb0)\n",
      "  Debug: Off\n",
      "  Modified Time: 323\n",
      "  Reference Count: 1\n",
      "  Registered Events: (none)\n",
      "  Request: REQUEST_DATA_OBJECT\n",
      "  ALGORITHM_AFTER_FORWARD: 1\n",
      "  FORWARD_DIRECTION: 0\n",
      "\n",
      "\n",
      "\n",
      "ERROR: In ../IO/Legacy/vtkDataReader.cxx, line 430\n",
      "vtkDataSetReader (0x4373840): Unable to open file: /home/jovyan/work/data/data/mindboggling/sub-01/Mindboggle/_hemi_lh/Surface_to_vtk/lh.pial.vtk\n",
      "\n",
      "ERROR: In ../Common/ExecutionModel/vtkExecutive.cxx, line 784\n",
      "vtkCompositeDataPipeline (0x436ccd0): Algorithm vtkDataSetReader(0x4373840) returned failure for request: vtkInformation (0x4375bb0)\n",
      "  Debug: Off\n",
      "  Modified Time: 323\n",
      "  Reference Count: 1\n",
      "  Registered Events: (none)\n",
      "  Request: REQUEST_DATA_OBJECT\n",
      "  ALGORITHM_AFTER_FORWARD: 1\n",
      "  FORWARD_DIRECTION: 0\n",
      "\n",
      "\n",
      "\n",
      "ERROR: In ../IO/Legacy/vtkDataReader.cxx, line 430\n",
      "vtkDataSetReader (0x4367540): Unable to open file: /home/jovyan/work/data/data/mindboggling/sub-01/Mindboggle/_hemi_lh/Surface_to_vtk/lh.pial.vtk\n",
      "\n",
      "ERROR: In ../Common/ExecutionModel/vtkExecutive.cxx, line 784\n",
      "vtkCompositeDataPipeline (0x3a5c360): Algorithm vtkDataSetReader(0x4367540) returned failure for request: vtkInformation (0x4c40cd0)\n",
      "  Debug: Off\n",
      "  Modified Time: 757\n",
      "  Reference Count: 1\n",
      "  Registered Events: (none)\n",
      "  Request: REQUEST_DATA_OBJECT\n",
      "  ALGORITHM_AFTER_FORWARD: 1\n",
      "  FORWARD_DIRECTION: 0\n",
      "\n",
      "\n",
      "\n",
      "ERROR: In ../IO/Legacy/vtkDataReader.cxx, line 430\n",
      "vtkDataSetReader (0x4367540): Unable to open file: /home/jovyan/work/data/data/mindboggling/sub-01/Mindboggle/_hemi_lh/Surface_to_vtk/lh.pial.vtk\n",
      "\n",
      "ERROR: In ../Common/ExecutionModel/vtkExecutive.cxx, line 784\n",
      "vtkCompositeDataPipeline (0x3a5c360): Algorithm vtkDataSetReader(0x4367540) returned failure for request: vtkInformation (0x4c40cd0)\n",
      "  Debug: Off\n",
      "  Modified Time: 757\n",
      "  Reference Count: 1\n",
      "  Registered Events: (none)\n",
      "  Request: REQUEST_DATA_OBJECT\n",
      "  ALGORITHM_AFTER_FORWARD: 1\n",
      "  FORWARD_DIRECTION: 0\n",
      "\n",
      "\n",
      "\n",
      "/opt/conda/lib/python3.5/site-packages/scipy/ndimage/interpolation.py:462: UserWarning: The behaviour of affine_transform with a one-dimensional array supplied for the matrix parameter has changed in scipy 0.18.0.\n",
      "  \"The behaviour of affine_transform with a one-dimensional \"\n",
      "Traceback (most recent call last):\n",
      "  File \"/opt/conda/bin/mindboggle\", line 2563, in <module>\n",
      "    mbFlow.run(plugin=args.plugin)\n",
      "  File \"/opt/conda/lib/python3.5/site-packages/nipype/pipeline/engine/workflows.py\", line 587, in run\n",
      "    runner.run(execgraph, updatehash=updatehash, config=self.config)\n",
      "  File \"/opt/conda/lib/python3.5/site-packages/nipype/pipeline/plugins/linear.py\", line 61, in run\n",
      "    report_nodes_not_run(notrun)\n",
      "  File \"/opt/conda/lib/python3.5/site-packages/nipype/pipeline/plugins/base.py\", line 101, in report_nodes_not_run\n",
      "    raise RuntimeError(('Workflow did not execute cleanly. '\n",
      "RuntimeError: Workflow did not execute cleanly. Check log for details\n"
     ]
    }
   ],
   "source": [
    "%%bash\n",
    "HOST=/home/jovyan/work/data;\n",
    "FREESURFER_SUBJECT=$HOST/ds000114/derivatives/freesurfer/sub-01;\n",
    "MINDBOGGLING=$HOST/mindboggling;\n",
    "MINDBOGGLED=$HOST/mindboggled;\n",
    "\n",
    "mindboggle $FREESURFER_SUBJECT --working $MINDBOGGLING --out $MINDBOGGLED \\\n",
    "            --roygbiv"
   ]
  },
  {
   "cell_type": "markdown",
   "metadata": {
    "deletable": true,
    "editable": true
   },
   "source": [
    "<a id=\"library\"></a>\n",
    "\n",
    "# Mindboggle Python library\n",
    "\n",
    "Rather than call Mindboggle from the command line, we can also call individual Python functions within the Mindboggle library, which includes the following files in mindboggle/mindboggle/:\n",
    "\n",
    "- **mio**/  *-- input/output functions*\n",
    "    - **[colors](https://github.com/nipy/mindboggle/blob/master/mindboggle/mio/colors.py)**.py  *-- colormap-related functions*\n",
    "    - **[convert_volumes](https://github.com/nipy/mindboggle/blob/master/mindboggle/mio/convert_volumes.py)**.py  *-- read/write nifti volume files*\n",
    "    - **[fetch_data](https://github.com/nipy/mindboggle/blob/master/mindboggle/mio/fetch_data.py)**.py  *-- fetch data from a URL or from third party software*\n",
    "    - **[labels](https://github.com/nipy/mindboggle/blob/master/mindboggle/mio/labels.py)**.py  *-- information about labeling protocols*\n",
    "    - **[plots](https://github.com/nipy/mindboggle/blob/master/mindboggle/mio/plots.py)**.py  *-- plot functions*\n",
    "    - **[tables](https://github.com/nipy/mindboggle/blob/master/mindboggle/mio/tables.py)**.py  *-- read/write tables*\n",
    "    - **[vtks](https://github.com/nipy/mindboggle/blob/master/mindboggle/mio/vtks.py)**.py  *-- read/write VTK surface files*\n",
    "- **guts**/  *-- the \"guts\" underlying feature extraction and labeling code*\n",
    "    - **[compute](https://github.com/nipy/mindboggle/blob/master/mindboggle/guts/compute.py)**.py  *-- compute distances, etc.*\n",
    "    - **[graph](https://github.com/nipy/mindboggle/blob/master/mindboggle/guts/graph.py)**.py  *-- graph operations*\n",
    "    - **[kernels](https://github.com/nipy/mindboggle/blob/master/mindboggle/guts/kernels.py)**.py  *-- kernels for graph operations*\n",
    "    - **[mesh](https://github.com/nipy/mindboggle/blob/master/mindboggle/guts/mesh.py)**.py  *-- operate on surface mesh vertices*\n",
    "    - **[paths](https://github.com/nipy/mindboggle/blob/master/mindboggle/guts/paths.py)**.py  *-- connect surface mesh vertices*\n",
    "    - **[rebound](https://github.com/nipy/mindboggle/blob/master/mindboggle/guts/rebound.py)**.py  *-- adjust label borders on a surface mesh*\n",
    "    - **[relabel](https://github.com/nipy/mindboggle/blob/master/mindboggle/guts/relabel.py)**.py  *-- relabel surface or volume files*\n",
    "    - **[segment](https://github.com/nipy/mindboggle/blob/master/mindboggle/guts/segment.py)**.py  *-- segment a surface mesh*\n",
    "- **shapes**/  *-- shape measurement functions\n",
    "    - **[surface_shapes](https://github.com/nipy/mindboggle/blob/master/mindboggle/shapes/surface_shapes.py)**.py  *-- compute surface shapes (calls C++ library below)*\n",
    "    - **[volume_shapes](https://github.com/nipy/mindboggle/blob/master/mindboggle/shapes/volume_shapes.py)**.py  *-- compute volumes and thicknesses*\n",
    "    - **[laplace_beltrami](https://github.com/nipy/mindboggle/blob/master/mindboggle/shapes/laplace_beltrami.py)**.py  *-- compute a Laplace-Beltrami spectrum*\n",
    "    - **[zernike/zernike](https://github.com/nipy/mindboggle/blob/master/mindboggle/shapes/zernike/zernike.py)**.py  *-- compute Zernike moments of a collection of vertices*\n",
    "    - **[likelihood](https://github.com/nipy/mindboggle/blob/master/mindboggle/shapes/likelihood.py)**.py  *-- compute (fundus) likelihood values*\n",
    "- **features**/  *-- higher-level feature extraction (folds, fundi, sulci)*\n",
    "    - **[folds](https://github.com/nipy/mindboggle/blob/master/mindboggle/features/folds.py)**.py  *-- extract surface folds*\n",
    "    - **[fundi](https://github.com/nipy/mindboggle/blob/master/mindboggle/features/fundi.py)**.py  *-- extract fundus curves from folds*\n",
    "    - **[sulci](https://github.com/nipy/mindboggle/blob/master/mindboggle/features/sulci.py)**.py  *-- extract sulci from folds*\n",
    "\n",
    "<!--\n",
    "    - **thirdparty/**  *-- third-party code*\n",
    "    - **[ants](https://github.com/nipy/mindboggle/blob/master/mindboggle/thirdparty/ants.py)**.py  *-- call ANTs commands*\n",
    "    - **[vtkviewer](https://github.com/nipy/mindboggle/blob/master/mindboggle/thirdparty/vtkviewer.py)**.py  *-- VTK viewer (by Hal Canary)*\n",
    "  - mindboggle/vtk_cpp_tools  *-- C++ tools for measuring shapes on VTK surface files*\n",
    "    - **[area](https://github.com/nipy/mindboggle/blob/master/vtk_cpp_tools/area/PointAreaMain.cpp)**/\n",
    "    - **[curvature](https://github.com/nipy/mindboggle/blob/master/vtk_cpp_tools/curvature/CurvatureMain.cpp)**/\n",
    "    - **[geodesic_depth](https://github.com/nipy/mindboggle/blob/master/vtk_cpp_tools/geodesic_depth/GeodesicDepthMain.cpp)**/\n",
    "    - **[travel_depth](https://github.com/nipy/mindboggle/tree/master/vtk_cpp_tools/travel_depth)**/\n",
    "    - **[gradient](https://github.com/nipy/mindboggle/blob/master/vtk_cpp_tools/gradient/GradientMain.cpp)**/\n",
    "    - **[surface_overlap](https://github.com/nipy/mindboggle/blob/master/vtk_cpp_tools/surface_overlap/SurfaceOverlapMain.cpp)**/\n",
    "-->"
   ]
  },
  {
   "cell_type": "markdown",
   "metadata": {
    "collapsed": true,
    "deletable": true,
    "editable": true
   },
   "source": [
    "<a id=\"functions\"></a>\n",
    "\n",
    "# Run individual functions\n",
    "\n",
    "Let's run some functions within Mindboggle's Python library.  The following examples are adapted from the above files' docstrings.\n",
    "\n",
    "## Example 1: Measure depth in a superior frontal gyrus and sulcus.\n",
    "### Measure travel depth for every vertex of a brain's left hemisphere:\n",
    "Convert a FreeSurfer surface file to VTK format:"
   ]
  },
  {
   "cell_type": "code",
   "execution_count": 1,
   "metadata": {
    "collapsed": false,
    "deletable": true,
    "editable": true
   },
   "outputs": [],
   "source": [
    "import os\n",
    "from mindboggle.mio.vtks import freesurfer_surface_to_vtk\n",
    "subject_path = '/home/jovyan/work/data/ds000114/derivatives/freesurfer/sub-01/'\n",
    "surface_file = freesurfer_surface_to_vtk(surface_file=subject_path + 'surf/lh.pial', \n",
    "                                         orig_file=subject_path + 'mri/orig.mgz',\n",
    "                                         output_vtk='lh.pial.vtk')"
   ]
  },
  {
   "cell_type": "markdown",
   "metadata": {
    "deletable": true,
    "editable": true
   },
   "source": [
    "Compute travel_depth for every vertex of the mesh in the VTK file:"
   ]
  },
  {
   "cell_type": "code",
   "execution_count": 2,
   "metadata": {
    "collapsed": false,
    "deletable": true,
    "editable": true
   },
   "outputs": [
    {
     "name": "stdout",
     "output_type": "stream",
     "text": [
      "/opt/mindboggle/vtk_cpp_tools/travel_depth/TravelDepthMain lh.pial.vtk /home/jovyan/work/mindboggle/docs/lh.pial.travel_depth.vtk\n",
      "170329-23:06:35,83 interface INFO:\n",
      "\t stdout 2017-03-29T23:06:35.082737:Euclidean depth allocated for visible points\n",
      "170329-23:06:35,84 interface INFO:\n",
      "\t stdout 2017-03-29T23:06:35.082737:Geodesic propagation 1\n",
      "170329-23:06:36,103 interface INFO:\n",
      "\t stdout 2017-03-29T23:06:36.103469:Euclidean propagation 1\n",
      "170329-23:06:37,118 interface INFO:\n",
      "\t stdout 2017-03-29T23:06:37.118176:Geodesic propagation 2\n",
      "170329-23:06:38,645 interface INFO:\n",
      "\t stdout 2017-03-29T23:06:38.645521:Euclidean propagation 2\n",
      "170329-23:06:39,662 interface INFO:\n",
      "\t stdout 2017-03-29T23:06:39.662043:Geodesic propagation 3\n",
      "170329-23:06:41,703 interface INFO:\n",
      "\t stdout 2017-03-29T23:06:41.703457:Euclidean propagation 3\n",
      "170329-23:06:42,208 interface INFO:\n",
      "\t stdout 2017-03-29T23:06:42.208067:Geodesic propagation 4\n",
      "170329-23:06:43,734 interface INFO:\n",
      "\t stdout 2017-03-29T23:06:43.734275:Euclidean propagation 4\n",
      "170329-23:06:44,749 interface INFO:\n",
      "\t stdout 2017-03-29T23:06:44.749628:Geodesic propagation 5\n",
      "170329-23:06:46,788 interface INFO:\n",
      "\t stdout 2017-03-29T23:06:46.788820:Euclidean propagation 5\n",
      "170329-23:06:47,803 interface INFO:\n",
      "\t stdout 2017-03-29T23:06:47.802925:Geodesic propagation 6\n",
      "170329-23:06:49,331 interface INFO:\n",
      "\t stdout 2017-03-29T23:06:49.331144:Euclidean propagation 6\n",
      "170329-23:06:49,834 interface INFO:\n",
      "\t stdout 2017-03-29T23:06:49.834219:Geodesic propagation 7\n",
      "170329-23:06:51,872 interface INFO:\n",
      "\t stdout 2017-03-29T23:06:51.872299:Euclidean propagation 7\n",
      "170329-23:06:52,375 interface INFO:\n",
      "\t stdout 2017-03-29T23:06:52.374941:Travel depth main computation done\n",
      "170329-23:06:54,412 interface INFO:\n",
      "\t stdout 2017-03-29T23:06:54.412250:last propagation done\n",
      "170329-23:06:54,414 interface INFO:\n",
      "\t stdout 2017-03-29T23:06:54.412250:Travel depth computed\n",
      "170329-23:06:55,944 interface INFO:\n",
      "\t stdout 2017-03-29T23:06:55.943996:vtk file written\n",
      "170329-23:06:55,948 interface INFO:\n",
      "\t stdout 2017-03-29T23:06:55.943996:Elapsed time (meshTest): 28 s\n"
     ]
    }
   ],
   "source": [
    "from mindboggle.shapes.surface_shapes import travel_depth\n",
    "from mindboggle.mio.vtks import read_scalars\n",
    "ccode_path = '/opt/mindboggle/vtk_cpp_tools'\n",
    "command = os.path.join(ccode_path, 'travel_depth', 'TravelDepthMain')\n",
    "depth_file = travel_depth(command=command,\n",
    "                          surface_file=surface_file,\n",
    "                          verbose=True)\n",
    "depths, name = read_scalars(depth_file)"
   ]
  },
  {
   "cell_type": "markdown",
   "metadata": {
    "deletable": true,
    "editable": true
   },
   "source": [
    "Plot a histogram of the depth values:"
   ]
  },
  {
   "cell_type": "code",
   "execution_count": 3,
   "metadata": {
    "collapsed": false,
    "deletable": true,
    "editable": true
   },
   "outputs": [
    {
     "data": {
      "image/png": "[encoded data removed]",
      "text/plain": [
       "<matplotlib.figure.Figure at 0x7fa02991fd68>"
      ]
     },
     "metadata": {},
     "output_type": "display_data"
    }
   ],
   "source": [
    "from mindboggle.mio.plots import histograms_of_lists\n",
    "histograms_of_lists(columns=[depths],\n",
    "                    column_name='Depth values',\n",
    "                    ignore_columns=[],\n",
    "                    nbins=100,\n",
    "                    axis_limits=[],\n",
    "                    titles='depth values')"
   ]
  },
  {
   "cell_type": "markdown",
   "metadata": {
    "deletable": true,
    "editable": true
   },
   "source": [
    "Plot the depth values in 3-D:"
   ]
  },
  {
   "cell_type": "code",
   "execution_count": 4,
   "metadata": {
    "collapsed": true,
    "deletable": true,
    "editable": true
   },
   "outputs": [],
   "source": [
    "from nbpapaya import Overlay\n",
    "import os"
   ]
  },
  {
   "cell_type": "code",
   "execution_count": 5,
   "metadata": {
    "collapsed": true,
    "deletable": true,
    "editable": true
   },
   "outputs": [],
   "source": [
    "# ANISHA!\n",
    "import pandas as pd\n",
    "df = pd.DataFrame(depths, columns=[\"depth\"])\n",
    "df.to_csv('depths.csv', index=False)"
   ]
  },
  {
   "cell_type": "code",
   "execution_count": 6,
   "metadata": {
    "collapsed": true,
    "deletable": true,
    "editable": true
   },
   "outputs": [],
   "source": [
    "def getMeshOpts(vtk_file, csv_file, vmin, vmax, threshold):\n",
    "    cols = pd.read_csv(csv_file).columns.tolist()\n",
    "    MeshOpts = {}\n",
    "    MeshOpts[os.path.abspath(vtk_file)] = {  \n",
    "                      \"filename\": os.path.abspath(csv_file),\n",
    "                      \"colormin\": \"#0000FF\", \n",
    "                      \"colormax\": \"#FF0000\",\n",
    "                      \"vmin\": vmin,\n",
    "                      \"vmax\": vmax,\n",
    "                      \"key\": cols[0],\n",
    "                      \"key_options\": cols,    \n",
    "                      \"threshold\": threshold,\n",
    "                      \"mesh_transparency\": 1,\n",
    "                      \"mesh_visible\": True,\n",
    "                      \"overlay_transparency\": 1\n",
    "                  }\n",
    "    return MeshOpts"
   ]
  },
  {
   "cell_type": "code",
   "execution_count": 7,
   "metadata": {
    "collapsed": false,
    "deletable": true,
    "editable": true
   },
   "outputs": [
    {
     "name": "stdout",
     "output_type": "stream",
     "text": [
      "doing checks /home/jovyan/.jupyter/custom/\n",
      "{'/home/jovyan/work/mindboggle/docs/lh.pial.vtk': 'papaya_data/tmpto1net6r.vtk'}\n",
      "/files/papaya_data/tmpto1net6r.vtk\n",
      "{'/home/jovyan/work/mindboggle/docs/lh.pial.vtk': {'key': 'depth', 'vmax': 10, 'mesh_visible': True, 'overlay_transparency': 1, 'filename': '/files/papaya_data/tmphpvtf14y.csv', 'mesh_transparency': 1, 'key_options': ['depth'], 'colormax': '#FF0000', 'threshold': 2, 'vmin': 2, 'colormin': '#0000FF'}} {'/files/papaya_data/tmpto1net6r.vtk': {'key': 'depth', 'vmax': 10, 'mesh_visible': True, 'overlay_transparency': 1, 'filename': '/files/papaya_data/tmphpvtf14y.csv', 'mesh_transparency': 1, 'key_options': ['depth'], 'colormax': '#FF0000', 'threshold': 2, 'vmin': 2, 'colormin': '#0000FF'}}\n"
     ]
    },
    {
     "data": {
      "text/html": [
       "\n",
       "            <script type=\"text/javascript\">\n",
       "                var nb_port = window.location.port;\n",
       "                var iframe = document.querySelector('iframe#tmpq_2ehrgv');\n",
       "                iframe.src=\"http://localhost:\" + nb_port + \"/files/papaya_data/tmpq_2ehrgv.html\";\n",
       "            </script>\n",
       "            <iframe\n",
       "            id=\"tmpq_2ehrgv\"\n",
       "            width=\"600\"\n",
       "            height=\"450\"\n",
       "            scrolling=\"no\"\n",
       "            frameBorder=\"0\">\n",
       "            </iframe>"
      ],
      "text/plain": [
       "<nbpapaya.base.Overlay at 0x7f9fc27aac18>"
      ]
     },
     "execution_count": 7,
     "metadata": {},
     "output_type": "execute_result"
    }
   ],
   "source": [
    "MeshOpts = getMeshOpts(surface_file, \"depths.csv\" , 2,10,2)\n",
    "Overlay(MeshOpts)"
   ]
  },
  {
   "cell_type": "markdown",
   "metadata": {
    "deletable": true,
    "editable": true
   },
   "source": [
    "### Extract folds based on depth and curvature:\n",
    "Find a depth threshold to extract folds from the surface:"
   ]
  },
  {
   "cell_type": "code",
   "execution_count": 12,
   "metadata": {
    "collapsed": false,
    "deletable": true,
    "editable": true
   },
   "outputs": [
    {
     "name": "stdout",
     "output_type": "stream",
     "text": [
      "  Depth threshold: 1.4778676864945055\n"
     ]
    },
    {
     "data": {
      "text/plain": [
       "1.4778676864945055"
      ]
     },
     "execution_count": 12,
     "metadata": {},
     "output_type": "execute_result"
    }
   ],
   "source": [
    "from mindboggle.features.folds import find_depth_threshold\n",
    "depth_threshold, bins, bin_edges = find_depth_threshold(depth_file=depth_file,\n",
    "                                                        min_vertices=10000,\n",
    "                                                        verbose=True)\n",
    "depth_threshold"
   ]
  },
  {
   "cell_type": "markdown",
   "metadata": {
    "deletable": true,
    "editable": true
   },
   "source": [
    "Extract folds with the depth threshold:"
   ]
  },
  {
   "cell_type": "code",
   "execution_count": 13,
   "metadata": {
    "collapsed": false,
    "deletable": true,
    "editable": true
   },
   "outputs": [
    {
     "name": "stdout",
     "output_type": "stream",
     "text": [
      "Extract folds in surface mesh\n",
      "  Segment vertices deeper than 1.48 as folds\n",
      "  ...Segmented folds (4.24 seconds)\n",
      "  Remove folds smaller than 50\n",
      "  ...Extracted 10 folds (10.48 seconds)\n"
     ]
    }
   ],
   "source": [
    "from mindboggle.features.folds import extract_folds\n",
    "folds, n_folds, folds_file = extract_folds(depth_file=depth_file,\n",
    "                                           depth_threshold=depth_threshold,\n",
    "                                           min_fold_size=50,\n",
    "                                           save_file=True,\n",
    "                                           output_file='folds.vtk',\n",
    "                                           background_value=-1,\n",
    "                                           verbose=True)"
   ]
  },
  {
   "cell_type": "markdown",
   "metadata": {
    "deletable": true,
    "editable": true
   },
   "source": [
    "Plot the folds in 3-D:"
   ]
  },
  {
   "cell_type": "code",
   "execution_count": 14,
   "metadata": {
    "collapsed": true,
    "deletable": true,
    "editable": true
   },
   "outputs": [],
   "source": [
    "# ANISHA!\n",
    "df = pd.DataFrame(folds, columns=[\"folds\"])\n",
    "df.to_csv('folds.csv', index=False)"
   ]
  },
  {
   "cell_type": "code",
   "execution_count": 24,
   "metadata": {
    "collapsed": false,
    "deletable": true,
    "editable": true
   },
   "outputs": [
    {
     "data": {
      "text/plain": [
       "'folds.vtk'"
      ]
     },
     "execution_count": 24,
     "metadata": {},
     "output_type": "execute_result"
    }
   ],
   "source": [
    "folds_file"
   ]
  },
  {
   "cell_type": "code",
   "execution_count": 30,
   "metadata": {
    "collapsed": false,
    "deletable": true,
    "editable": true
   },
   "outputs": [
    {
     "name": "stdout",
     "output_type": "stream",
     "text": [
      "doing checks /home/jovyan/.jupyter/custom/\n",
      "{'/home/jovyan/work/mindboggle/docs/folds.vtk': 'papaya_data/tmpjn5bqq5v.vtk'}\n",
      "/files/papaya_data/tmpjn5bqq5v.vtk\n",
      "{'/home/jovyan/work/mindboggle/docs/folds.vtk': {'filename': '/files/papaya_data/tmphualpkq_.csv', 'vmin': 1, 'colormin': '#0000FF', 'key_options': ['folds'], 'mesh_transparency': 1, 'overlay_transparency': 1, 'colormax': '#FF0000', 'vmax': 10, 'key': 'folds', 'threshold': 1, 'mesh_visible': True}} {'/files/papaya_data/tmpjn5bqq5v.vtk': {'filename': '/files/papaya_data/tmphualpkq_.csv', 'vmin': 1, 'colormin': '#0000FF', 'key_options': ['folds'], 'mesh_transparency': 1, 'overlay_transparency': 1, 'colormax': '#FF0000', 'vmax': 10, 'key': 'folds', 'threshold': 1, 'mesh_visible': True}}\n"
     ]
    },
    {
     "data": {
      "text/html": [
       "\n",
       "            <script type=\"text/javascript\">\n",
       "                var nb_port = window.location.port;\n",
       "                var iframe = document.querySelector('iframe#tmp8ncl5f46');\n",
       "                iframe.src=\"http://localhost:\" + nb_port + \"/files/papaya_data/tmp8ncl5f46.html\";\n",
       "            </script>\n",
       "            <iframe\n",
       "            id=\"tmp8ncl5f46\"\n",
       "            width=\"600\"\n",
       "            height=\"450\"\n",
       "            scrolling=\"no\"\n",
       "            frameBorder=\"0\">\n",
       "            </iframe>"
      ],
      "text/plain": [
       "<nbpapaya.base.Overlay at 0x7fc26bfa4da0>"
      ]
     },
     "execution_count": 30,
     "metadata": {},
     "output_type": "execute_result"
    }
   ],
   "source": [
    "MeshOpts = getMeshOpts(folds_file, \"folds.csv\" , 1,10,1)\n",
    "Overlay(MeshOpts)"
   ]
  },
  {
   "cell_type": "markdown",
   "metadata": {
    "deletable": true,
    "editable": true
   },
   "source": [
    "Remove all but one fold to speed things up:"
   ]
  },
  {
   "cell_type": "code",
   "execution_count": 31,
   "metadata": {
    "collapsed": false,
    "deletable": true,
    "editable": true
   },
   "outputs": [],
   "source": [
    "from mindboggle.mio.vtks import read_scalars\n",
    "fold_numbers = [4]\n",
    "fold, name = read_scalars(folds_file, True, True)\n",
    "i0 = [i for i,x in enumerate(folds) if x not in fold_numbers]\n",
    "fold[i0] = -1"
   ]
  },
  {
   "cell_type": "markdown",
   "metadata": {
    "deletable": true,
    "editable": true
   },
   "source": [
    "Plot the fold in 3-D:"
   ]
  },
  {
   "cell_type": "code",
   "execution_count": 32,
   "metadata": {
    "collapsed": false,
    "deletable": true,
    "editable": true
   },
   "outputs": [],
   "source": [
    "# ANISHA!\n",
    "df = pd.DataFrame(fold, columns=[\"fold\"])\n",
    "df.to_csv('fold.csv', index=False)"
   ]
  },
  {
   "cell_type": "code",
   "execution_count": 33,
   "metadata": {
    "collapsed": false,
    "deletable": true,
    "editable": true
   },
   "outputs": [
    {
     "name": "stdout",
     "output_type": "stream",
     "text": [
      "doing checks /home/jovyan/.jupyter/custom/\n",
      "{'/home/jovyan/work/mindboggle/docs/folds.vtk': 'papaya_data/tmpfqi38w3a.vtk'}\n",
      "/files/papaya_data/tmpfqi38w3a.vtk\n",
      "{'/home/jovyan/work/mindboggle/docs/folds.vtk': {'filename': '/files/papaya_data/tmp1sbbud0b.csv', 'vmin': 1, 'colormin': '#0000FF', 'key_options': ['fold'], 'mesh_transparency': 1, 'overlay_transparency': 1, 'colormax': '#FF0000', 'vmax': 10, 'key': 'fold', 'threshold': 1, 'mesh_visible': True}} {'/files/papaya_data/tmpfqi38w3a.vtk': {'filename': '/files/papaya_data/tmp1sbbud0b.csv', 'vmin': 1, 'colormin': '#0000FF', 'key_options': ['fold'], 'mesh_transparency': 1, 'overlay_transparency': 1, 'colormax': '#FF0000', 'vmax': 10, 'key': 'fold', 'threshold': 1, 'mesh_visible': True}}\n"
     ]
    },
    {
     "data": {
      "text/html": [
       "\n",
       "            <script type=\"text/javascript\">\n",
       "                var nb_port = window.location.port;\n",
       "                var iframe = document.querySelector('iframe#tmp2zg6wkiy');\n",
       "                iframe.src=\"http://localhost:\" + nb_port + \"/files/papaya_data/tmp2zg6wkiy.html\";\n",
       "            </script>\n",
       "            <iframe\n",
       "            id=\"tmp2zg6wkiy\"\n",
       "            width=\"600\"\n",
       "            height=\"450\"\n",
       "            scrolling=\"no\"\n",
       "            frameBorder=\"0\">\n",
       "            </iframe>"
      ],
      "text/plain": [
       "<nbpapaya.base.Overlay at 0x7fc26bfa4f28>"
      ]
     },
     "execution_count": 33,
     "metadata": {},
     "output_type": "execute_result"
    }
   ],
   "source": [
    "MeshOpts = getMeshOpts(folds_file, \"fold.csv\" , 1,10,1)\n",
    "Overlay(MeshOpts)"
   ]
  },
  {
   "cell_type": "markdown",
   "metadata": {
    "deletable": true,
    "editable": true
   },
   "source": [
    "### Identify sulci in (one of) the folds:\n",
    "Use the DKT labeling protocol's list of label pairs defining each sulcus:\n",
    "\n",
    "Load a FreeSurfer .annot file and save as a VTK format file:"
   ]
  },
  {
   "cell_type": "code",
   "execution_count": 34,
   "metadata": {
    "collapsed": false,
    "deletable": true,
    "editable": true
   },
   "outputs": [],
   "source": [
    "from mindboggle.mio.vtks import freesurfer_annot_to_vtk\n",
    "labels, label_file = freesurfer_annot_to_vtk(annot_file=subject_path + 'label/lh.aparc.annot',\n",
    "                                             vtk_file=surface_file,\n",
    "                                             output_vtk='lh.aparc.annot.vtk',\n",
    "                                             background_value=-1)"
   ]
  },
  {
   "cell_type": "markdown",
   "metadata": {
    "deletable": true,
    "editable": true
   },
   "source": [
    "Extract sulci from the one fold:"
   ]
  },
  {
   "cell_type": "code",
   "execution_count": 35,
   "metadata": {
    "collapsed": false,
    "deletable": true,
    "editable": true
   },
   "outputs": [
    {
     "name": "stdout",
     "output_type": "stream",
     "text": [
      "Extract sulci from 1 folds...\n",
      "  Fold 4 (158 vertices): NO MATCH -- fold has only one label (28)\n",
      "Extracted 0 sulci from 1 fold (0.0s):\n",
      "The following 24 sulci are unaccounted for:\n",
      "  0, 1, 2, 3, 4, 5, 6, 7, 8, 9, 10, 11, 12, 13, 14, 15, 16, 17, 18, 19, 20, 21, 22, 23\n"
     ]
    },
    {
     "data": {
      "text/plain": [
       "0"
      ]
     },
     "execution_count": 35,
     "metadata": {},
     "output_type": "execute_result"
    }
   ],
   "source": [
    "from mindboggle.features.sulci import extract_sulci\n",
    "sulci, n_sulci, sulci_file = extract_sulci(labels_file=label_file,\n",
    "                                           folds_or_file=fold,\n",
    "                                           hemi='lh',\n",
    "                                           min_boundary=10,\n",
    "                                           sulcus_names=[],\n",
    "                                           save_file=True,\n",
    "                                           output_file='sulci_from_fold.vtk',\n",
    "                                           background_value=-1,\n",
    "                                           verbose=True)\n",
    "n_sulci"
   ]
  },
  {
   "cell_type": "markdown",
   "metadata": {
    "deletable": true,
    "editable": true
   },
   "source": [
    "Write out a separate VTK file for each integer in (the first) scalar list of an input VTK file \n",
    "(optionally write the values drawn from a second VTK file):"
   ]
  },
  {
   "cell_type": "code",
   "execution_count": 36,
   "metadata": {
    "collapsed": false,
    "deletable": true,
    "editable": true
   },
   "outputs": [
    {
     "name": "stdout",
     "output_type": "stream",
     "text": [
      "Explode the scalar list in lh.aparc.annot.vtk\n",
      "  Scalar 1: 1184 vertices\n",
      "  Scalar 2: 565 vertices\n",
      "  Scalar 3: 2069 vertices\n",
      "  Scalar 5: 1899 vertices\n",
      "  Scalar 6: 430 vertices\n",
      "  Scalar 7: 3774 vertices\n",
      "  Scalar 8: 4977 vertices\n",
      "  Scalar 9: 3820 vertices\n",
      "  Scalar 10: 899 vertices\n",
      "  Scalar 11: 5351 vertices\n",
      "  Scalar 12: 2456 vertices\n",
      "  Scalar 13: 2774 vertices\n",
      "  Scalar 14: 2279 vertices\n",
      "  Scalar 15: 3378 vertices\n",
      "  Scalar 16: 1025 vertices\n",
      "  Scalar 17: 1725 vertices\n",
      "  Scalar 18: 1627 vertices\n",
      "  Scalar 19: 587 vertices\n",
      "  Scalar 20: 1381 vertices\n",
      "  Scalar 21: 1249 vertices\n",
      "  Scalar 22: 5216 vertices\n",
      "  Scalar 23: 1291 vertices\n",
      "  Scalar 24: 6211 vertices\n",
      "  Scalar 25: 4094 vertices\n",
      "  Scalar 26: 870 vertices\n",
      "  Scalar 27: 5788 vertices\n",
      "  Scalar 28: 8135 vertices\n",
      "  Scalar 29: 6473 vertices\n",
      "  Scalar 30: 4288 vertices\n",
      "  Scalar 31: 3950 vertices\n",
      "  Scalar 32: 374 vertices\n",
      "  Scalar 33: 513 vertices\n",
      "  Scalar 34: 579 vertices\n",
      "  Scalar 35: 2755 vertices\n"
     ]
    }
   ],
   "source": [
    "from mindboggle.mio.vtks import explode_scalars\n",
    "label_files = explode_scalars(input_indices_vtk=label_file,\n",
    "                              input_values_vtk='',\n",
    "                              output_stem='label',\n",
    "                              exclude_values=[-1],\n",
    "                              background_value=-1,\n",
    "                              output_scalar_name='label',\n",
    "                              remove_background_faces=True,\n",
    "                              reindex=True,\n",
    "                              verbose=True)"
   ]
  },
  {
   "cell_type": "code",
   "execution_count": 38,
   "metadata": {
    "collapsed": false,
    "deletable": true,
    "editable": true
   },
   "outputs": [
    {
     "name": "stdout",
     "output_type": "stream",
     "text": [
      "/opt/mindboggle/vtk_cpp_tools/travel_depth/TravelDepthMain /home/jovyan/work/mindboggle/docs/label1.vtk /home/jovyan/work/mindboggle/docs/label1.travel_depth.vtk\n",
      "170329-14:55:20,633 interface INFO:\n",
      "\t stderr 2017-03-29T14:55:20.633795:ERROR: In ../IO/Legacy/vtkPolyDataReader.cxx, line 293\n",
      "170329-14:55:20,636 interface INFO:\n",
      "\t stderr 2017-03-29T14:55:20.633795:vtkPolyDataReader (0x2465490): Number of points don't match number data values!\n",
      "170329-14:55:20,643 interface INFO:\n",
      "\t stderr 2017-03-29T14:55:20.633795:\n",
      "170329-14:55:21,661 interface INFO:\n",
      "\t stdout 2017-03-29T14:55:21.661316:Euclidean depth allocated for visible points\n",
      "170329-14:55:21,666 interface INFO:\n",
      "\t stdout 2017-03-29T14:55:21.661316:Geodesic propagation 1\n",
      "170329-14:55:21,671 interface INFO:\n",
      "\t stdout 2017-03-29T14:55:21.661316:Euclidean propagation 1\n",
      "170329-14:55:21,680 interface INFO:\n",
      "\t stdout 2017-03-29T14:55:21.661316:Geodesic propagation 2\n",
      "170329-14:55:21,682 interface INFO:\n",
      "\t stdout 2017-03-29T14:55:21.661316:Euclidean propagation 2\n",
      "170329-14:55:21,686 interface INFO:\n",
      "\t stdout 2017-03-29T14:55:21.661316:Travel depth main computation done\n",
      "170329-14:55:21,692 interface INFO:\n",
      "\t stdout 2017-03-29T14:55:21.661316:last propagation done\n",
      "170329-14:55:21,697 interface INFO:\n",
      "\t stdout 2017-03-29T14:55:21.661316:Travel depth computed\n",
      "170329-14:55:21,700 interface INFO:\n",
      "\t stdout 2017-03-29T14:55:21.661316:vtk file written\n",
      "170329-14:55:21,706 interface INFO:\n",
      "\t stdout 2017-03-29T14:55:21.661316:Elapsed time (meshTest): 1 s\n"
     ]
    },
    {
     "data": {
      "text/plain": [
       "[0.04605, 0.11561, 0.00776, 0.00874, 0.00031, 0.06686, 0.02744, 0.00463]"
      ]
     },
     "execution_count": 38,
     "metadata": {},
     "output_type": "execute_result"
    }
   ],
   "source": [
    "from mindboggle.shapes.surface_shapes import travel_depth\n",
    "from mindboggle.mio.vtks import read_scalars\n",
    "import numpy as np\n",
    "ccode_path = '/opt/mindboggle/vtk_cpp_tools'\n",
    "command = os.path.join(ccode_path, 'travel_depth', 'TravelDepthMain')\n",
    "depth_file = travel_depth(command=command,\n",
    "                          surface_file=label_files[0],\n",
    "                          verbose=True)\n",
    "depths, name = read_scalars(depth_file)\n",
    "[np.float(\"{0:.{1}f}\".format(x, 5)) for x in depths[0:8]]"
   ]
  },
  {
   "cell_type": "raw",
   "metadata": {
    "deletable": true,
    "editable": true
   },
   "source": []
  },
  {
   "cell_type": "markdown",
   "metadata": {
    "collapsed": false,
    "deletable": true,
    "editable": true
   },
   "source": []
  },
  {
   "cell_type": "code",
   "execution_count": null,
   "metadata": {
    "collapsed": true,
    "deletable": true,
    "editable": true
   },
   "outputs": [],
   "source": []
  },
  {
   "cell_type": "markdown",
   "metadata": {
    "deletable": true,
    "editable": true
   },
   "source": [
    "def freesurfer_curvature_to_vtk(surface_file, vtk_file, output_vtk='',\n",
    "                                background_value=-1):\n",
    "    \"\"\"\n",
    "    Convert FreeSurfer curvature, thickness, or convexity file to VTK format.\n",
    "\n",
    "    Parameters\n",
    "    ----------\n",
    "    surface_file : string\n",
    "        name of FreeSurfer surface file\n",
    "    vtk_file : string\n",
    "        name of VTK surface file\n",
    "    output_vtk : string\n",
    "        name of output VTK file\n",
    "    background_value : integer or float\n",
    "        background value\n",
    "\n",
    "    Returns\n",
    "    -------\n",
    "    output_vtk : string\n",
    "        name of output VTK file, where each vertex is assigned\n",
    "        the corresponding shape value\n",
    "\n",
    "    Examples\n",
    "    --------\n",
    "from mindboggle.mio.vtks import freesurfer_curvature_to_vtk\n",
    "from mindboggle.mio.fetch_data import prep_tests\n",
    "urls, fetch_data = prep_tests()\n",
    "surface_file = fetch_data(urls['left_freesurfer_thickness'], '', '.vtk')\n",
    "vtk_file = fetch_data(urls['left_pial'], '', '.vtk')\n",
    "output_vtk = 'freesurfer_curvature_to_vtk.vtk'\n",
    "background_value = -1\n",
    "output_vtk = freesurfer_curvature_to_vtk(surface_file, vtk_file,\n",
    "    ...                                          output_vtk, background_value)"
   ]
  },
  {
   "cell_type": "code",
   "execution_count": null,
   "metadata": {
    "collapsed": true,
    "deletable": true,
    "editable": true
   },
   "outputs": [],
   "source": [
    "from mindboggle.mio.vtks import freesurfer_curvature_to_vtk\n",
    "output_vtk = freesurfer_curvature_to_vtk(surface_file=surface_vtk_file\n",
    "                                         vtk_file=surface_vtk_file,\n",
    "                                         output_vtk='curvature.vtk',\n",
    "                                         background_value=-1)"
   ]
  },
  {
   "cell_type": "code",
   "execution_count": null,
   "metadata": {
    "collapsed": true,
    "deletable": true,
    "editable": true
   },
   "outputs": [],
   "source": []
  },
  {
   "cell_type": "code",
   "execution_count": null,
   "metadata": {
    "collapsed": true,
    "deletable": true,
    "editable": true
   },
   "outputs": [],
   "source": []
  },
  {
   "cell_type": "code",
   "execution_count": null,
   "metadata": {
    "collapsed": true,
    "deletable": true,
    "editable": true
   },
   "outputs": [],
   "source": []
  },
  {
   "cell_type": "code",
   "execution_count": null,
   "metadata": {
    "collapsed": true,
    "deletable": true,
    "editable": true
   },
   "outputs": [],
   "source": []
  },
  {
   "cell_type": "code",
   "execution_count": null,
   "metadata": {
    "collapsed": true,
    "deletable": true,
    "editable": true
   },
   "outputs": [],
   "source": []
  },
  {
   "cell_type": "code",
   "execution_count": null,
   "metadata": {
    "collapsed": true,
    "deletable": true,
    "editable": true
   },
   "outputs": [],
   "source": []
  },
  {
   "cell_type": "markdown",
   "metadata": {
    "deletable": true,
    "editable": true
   },
   "source": [
    "<a id=\"example2\"></a>\n",
    "### Example 2:  Compute statistical measures across vertices per label.\n",
    "\n",
    "**[stats_per_label](https://github.com/nipy/mindboggle/blob/master/mindboggle/guts/compute.py#L716)** (values, labels, include_labels=[], exclude_labels=[], weights=[], precision=1)\n",
    "\n",
    "    When computing statistical measures across vertices per label, \n",
    "    you can optionally use weights (such as surface area per vertex),\n",
    "    to compute, for example, a surface area-weighted mean:\n",
    "\n",
    "    average value = sum(a_i * v_i) / total_surface_area,\n",
    "    where *a_i* and *v_i* are the area and value for each vertex *i*.\n",
    "\n",
    "    Reference:\n",
    "        Weighted skewness and kurtosis unbiased by sample size\n",
    "        Lorenzo Rimoldini, arXiv:1304.6564 (2013)\n",
    "        http://arxiv.org/abs/1304.6564\n",
    "\n",
    "    Parameters\n",
    "    ----------\n",
    "    values : numpy array of individual or lists of integers or floats\n",
    "        values for all vertices\n",
    "    labels : list or array of integers\n",
    "        label for each value\n",
    "    include_labels : list of integers\n",
    "        labels to include\n",
    "    exclude_labels : list of integers\n",
    "        labels to be excluded\n",
    "    weights : numpy array of floats\n",
    "        weights to compute weighted statistical measures\n",
    "    precision : integer\n",
    "        number of decimal places to consider weights\n",
    "\n",
    "    Returns\n",
    "    -------\n",
    "    medians : list of floats\n",
    "        median for each label\n",
    "    mads : list of floats\n",
    "        median absolute deviation for each label\n",
    "    means : list of floats\n",
    "        mean for each label\n",
    "    sdevs : list of floats\n",
    "        standard deviation for each label\n",
    "    skews : list of floats\n",
    "        skew for each label\n",
    "    kurts : list of floats\n",
    "        kurtosis value for each label\n",
    "    lower_quarts : list of floats\n",
    "        lower quartile for each label\n",
    "    upper_quarts : list of floats\n",
    "        upper quartile for each label\n",
    "    label_list : list of integers\n",
    "        list of unique labels"
   ]
  },
  {
   "cell_type": "code",
   "execution_count": 6,
   "metadata": {
    "collapsed": false,
    "deletable": true,
    "editable": true
   },
   "outputs": [
    {
     "data": {
      "text/plain": [
       "[-1.13602,\n",
       " -1.2296100000000001,\n",
       " -2.4966499999999998,\n",
       " -3.80782,\n",
       " -3.3730899999999999,\n",
       " -4.7229000000000001,\n",
       " -3.8298999999999999,\n",
       " -3.25325,\n",
       " -3.9102899999999998,\n",
       " -2.8330199999999999,\n",
       " -3.6722000000000001,\n",
       " -2.9595199999999999,\n",
       " -3.2435399999999999,\n",
       " -2.6196199999999998,\n",
       " -4.31311,\n",
       " -3.7510599999999998,\n",
       " -2.8605100000000001,\n",
       " -3.6007099999999999,\n",
       " -5.4514300000000002,\n",
       " -3.5950700000000002,\n",
       " -1.1490199999999999,\n",
       " -2.9771999999999998,\n",
       " -2.9401999999999999,\n",
       " -3.2038700000000002,\n",
       " -2.9556100000000001,\n",
       " -2.9895299999999998,\n",
       " -3.6794599999999997,\n",
       " -3.6627700000000001,\n",
       " -2.95478,\n",
       " -3.6303200000000002,\n",
       " -3.5913599999999999,\n",
       " -7.3693299999999997,\n",
       " -5.5285000000000002,\n",
       " -2.5504199999999999,\n",
       " -2.0070999999999999]"
      ]
     },
     "execution_count": 6,
     "metadata": {},
     "output_type": "execute_result"
    }
   ],
   "source": [
    "import numpy as np\n",
    "from mindboggle.mio.vtks import read_scalars\n",
    "from mindboggle.guts.compute import stats_per_label\n",
    "from mindboggle.mio.fetch_data import prep_tests\n",
    "urls, fetch_data = prep_tests()\n",
    "values_file = fetch_data(urls['left_mean_curvature'], '', '.vtk')\n",
    "labels_file = fetch_data(urls['left_freesurfer_labels'], '', '.vtk')\n",
    "area_file = fetch_data(urls['left_area'], '', '.vtk')\n",
    "values, name = read_scalars(values_file, True, True)\n",
    "areas, name = read_scalars(area_file, True, True)\n",
    "labels, name = read_scalars(labels_file)\n",
    "include_labels = []\n",
    "exclude_labels = [-1]\n",
    "weights = areas\n",
    "precision = 1\n",
    "medians, mads, means, sdevs, skews, kurts, lower_quarts, upper_quarts, label_list = stats_per_label(values, \n",
    "    labels, include_labels, exclude_labels, weights, precision)\n",
    "medians"
   ]
  },
  {
   "cell_type": "markdown",
   "metadata": {
    "deletable": true,
    "editable": true
   },
   "source": [
    "View histograms of statistical values:"
   ]
  },
  {
   "cell_type": "code",
   "execution_count": 8,
   "metadata": {
    "collapsed": false,
    "deletable": true,
    "editable": true
   },
   "outputs": [
    {
     "data": {
      "image/png": "[encoded data removed]",
      "text/plain": [
       "<matplotlib.figure.Figure at 0x7fd634093c18>"
      ]
     },
     "metadata": {},
     "output_type": "display_data"
    }
   ],
   "source": [
    "from mindboggle.mio.plots import histograms_of_lists\n",
    "columns = [medians, mads, skews, kurts, lower_quarts, upper_quarts]\n",
    "column_name = '.'\n",
    "ignore_columns = []\n",
    "nbins = 10\n",
    "axis_limits = []\n",
    "titles = ['medians', 'mads', 'skews', 'kurts', 'lower_quarts', 'upper_quarts']\n",
    "histograms_of_lists(columns, column_name, ignore_columns, nbins, axis_limits, titles)"
   ]
  },
  {
   "cell_type": "markdown",
   "metadata": {
    "collapsed": true,
    "deletable": true,
    "editable": true
   },
   "source": [
    "<a id=\"example3\"></a>\n",
    "### Example 3:  Decimate a left postcentral pial surface.\n",
    "\n",
    "**[stats_per_label](https://github.com/nipy/mindboggle/blob/master/mindboggle/guts/mesh.py#L750)** (points, faces, reduction=0.75, smooth_steps=25, scalars=[], save_vtk=False, output_vtk='')\n",
    "\n",
    "    Decimate vtk triangular mesh with vtk.vtkDecimatePro.\n",
    "\n",
    "    Parameters\n",
    "    ----------\n",
    "    points : list of lists of floats\n",
    "        each element is a list of 3-D coordinates of a vertex on a surface mesh\n",
    "    faces : list of lists of integers\n",
    "        each element is list of 3 indices of vertices that form a face\n",
    "        on a surface mesh\n",
    "    reduction : float\n",
    "        fraction of mesh faces to remove\n",
    "    smooth_steps : integer\n",
    "        number of smoothing steps\n",
    "    scalars : list of integers or floats\n",
    "        optional scalars for output VTK file\n",
    "    save_vtk : bool\n",
    "        output decimated vtk file?\n",
    "    output_vtk : string\n",
    "        output decimated vtk file name\n",
    "\n",
    "    Returns\n",
    "    -------\n",
    "    points : list of lists of floats\n",
    "        decimated points\n",
    "    faces : list of lists of integers\n",
    "        decimated faces\n",
    "    scalars : list of integers or floats\n",
    "        scalars for output VTK file\n",
    "    output_vtk : string\n",
    "        output decimated vtk file"
   ]
  },
  {
   "cell_type": "code",
   "execution_count": null,
   "metadata": {
    "collapsed": false,
    "deletable": true,
    "editable": true
   },
   "outputs": [],
   "source": [
    "from mindboggle.guts.mesh import decimate\n",
    "from mindboggle.mio.vtks import read_vtk\n",
    "from mindboggle.mio.fetch_data import prep_tests\n",
    "urls, fetch_data = prep_tests()\n",
    "input_vtk = fetch_data(urls['left_freesurfer_labels'], '', '.vtk')\n",
    "points, f1, f2, faces, scalars, f3, f4, f5 = read_vtk(input_vtk)\n",
    "reduction = 0.5\n",
    "smooth_steps = 25\n",
    "save_vtk = True\n",
    "output_vtk = 'decimate.vtk'\n",
    "points2, faces2, scalars, output_vtk = decimate(points, faces, reduction, smooth_steps, scalars, save_vtk, output_vtk)\n",
    "(len(points), len(points2))\n",
    "(len(faces), len(faces2))"
   ]
  },
  {
   "cell_type": "markdown",
   "metadata": {
    "deletable": true,
    "editable": true
   },
   "source": [
    "View the decimated surface:"
   ]
  },
  {
   "cell_type": "code",
   "execution_count": 10,
   "metadata": {
    "collapsed": false,
    "deletable": true,
    "editable": true
   },
   "outputs": [
    {
     "ename": "SystemExit",
     "evalue": "Huh?: decimate.vtk",
     "output_type": "error",
     "traceback": [
      "An exception has occurred, use %tb to see the full traceback.\n",
      "\u001b[0;31mSystemExit\u001b[0m\u001b[0;31m:\u001b[0m Huh?: decimate.vtk\n"
     ]
    },
    {
     "name": "stderr",
     "output_type": "stream",
     "text": [
      "/opt/conda/lib/python3.5/site-packages/IPython/core/interactiveshell.py:2889: UserWarning: To exit: use 'exit', 'quit', or Ctrl-D.\n",
      "  warn(\"To exit: use 'exit', 'quit', or Ctrl-D.\", stacklevel=1)\n"
     ]
    }
   ],
   "source": [
    "from mindboggle.mio.plots import plot_surfaces\n",
    "plot_surfaces('decimate.vtk')"
   ]
  },
  {
   "cell_type": "markdown",
   "metadata": {
    "deletable": true,
    "editable": true
   },
   "source": [
    "<a id=\"example4\"></a>\n",
    "### Example 4:  Relabel a VTK surface.\n",
    "\n",
    "**[relabel_surface](https://github.com/nipy/mindboggle/blob/master/mindboggle/guts/relabel.py#L300)** (vtk_file, hemi='', old_labels=[], new_labels=[], erase_remaining=True, erase_labels=[], erase_value=-1, output_file='')\n",
    "\n",
    "    Parameters\n",
    "    ----------\n",
    "    vtk_file : string\n",
    "         input labeled VTK file\n",
    "    hemi : string\n",
    "        hemisphere ('lh' or 'rh' or '')\n",
    "        if set, add 1000 to left and 2000 to right hemisphere labels;\n",
    "    old_labels : list of integers\n",
    "        old labels (empty list if labels drawn from vtk scalars);\n",
    "        may be used in conjunction with hemi\n",
    "    new_labels : list of integers\n",
    "        new labels (empty list if labels drawn from vtk scalars);\n",
    "        may be used in conjunction with hemi\n",
    "    erase_remaining : bool\n",
    "        set all values not in old_labels to erase_value?\n",
    "    erase_labels : list of integers\n",
    "        values to erase (set to erase_value)\n",
    "    erase_value : integer\n",
    "        set vertices with labels in erase_labels to this value\n",
    "    output_file : string\n",
    "        new vtk file name\n",
    "\n",
    "    Returns\n",
    "    -------\n",
    "    output_file : string\n",
    "        new vtk file name"
   ]
  },
  {
   "cell_type": "code",
   "execution_count": null,
   "metadata": {
    "collapsed": false,
    "deletable": true,
    "editable": true
   },
   "outputs": [
    {
     "data": {
      "text/plain": [
       "array([  -1, 1000, 1500, 2000])"
      ]
     },
     "execution_count": 16,
     "metadata": {},
     "output_type": "execute_result"
    }
   ],
   "source": [
    "import numpy as np\n",
    "from mindboggle.guts.relabel import relabel_surface\n",
    "from mindboggle.mio.vtks import read_scalars\n",
    "from mindboggle.mio.fetch_data import prep_tests\n",
    "urls, fetch_data = prep_tests()\n",
    "vtk_file = fetch_data(urls['left_freesurfer_labels'], '', '.vtk')\n",
    "hemi = 'lh'\n",
    "old_labels = [1003,1009,1030]\n",
    "new_labels = [0,500,1000]\n",
    "erase_remaining = True\n",
    "erase_labels = [0]\n",
    "erase_value = -1\n",
    "output_file = 'relabel_surface.vtk'\n",
    "output_file = relabel_surface(vtk_file, hemi, old_labels, new_labels,\n",
    "    erase_remaining, erase_labels, erase_value, output_file)\n",
    "labels, name = read_scalars(output_file, True, True)\n",
    "np.unique(labels)"
   ]
  },
  {
   "cell_type": "markdown",
   "metadata": {
    "deletable": true,
    "editable": true
   },
   "source": [
    "View relabeled surface file:"
   ]
  },
  {
   "cell_type": "code",
   "execution_count": null,
   "metadata": {
    "collapsed": true,
    "deletable": true,
    "editable": true
   },
   "outputs": [],
   "source": [
    "from mindboggle.mio.plots import plot_surfaces\n",
    "plot_surfaces(output_file)"
   ]
  },
  {
   "cell_type": "markdown",
   "metadata": {
    "deletable": true,
    "editable": true
   },
   "source": [
    "<a id=\"example5\"></a>\n",
    "### Example 5:  Segment deep vertices of surface into contiguous regions.\n",
    "\n",
    "**[segment_regions](https://github.com/nipy/mindboggle/blob/master/mindboggle/guts/segment.py#L181)** (vertices_to_segment, neighbor_lists, min_region_size=1, seed_lists=[], keep_seeding=False, spread_within_labels=False, labels=[], label_lists=[], values=[], max_steps='', background_value=-1, verbose=False)\n",
    "\n",
    "    Parameters\n",
    "    ----------\n",
    "    vertices_to_segment : list of integers\n",
    "        indices to mesh vertices to be segmented\n",
    "    neighbor_lists : list of lists of integers\n",
    "        each list contains indices to neighboring vertices for each vertex\n",
    "    min_region_size : integer\n",
    "        minimum size of segmented set of vertices\n",
    "    seed_lists : list of lists, or empty list\n",
    "        each list contains indices to seed vertices to segment vertices_to_segment\n",
    "    keep_seeding : bool\n",
    "        grow from new seeds even after all seed lists have fully grown\n",
    "    spread_within_labels : bool\n",
    "        grow seeds only by vertices with labels in the seed labels?\n",
    "    labels : list of integers (required only if spread_within_labels)\n",
    "        label numbers for all vertices\n",
    "    label_lists : list of lists of integers (required only if spread_within_labels)\n",
    "        List of unique labels for each seed list to grow into\n",
    "        (If empty, set to unique labels for each seed list)\n",
    "    values : list of floats (default empty)\n",
    "        values for all vertices for use in preferentially directed segmentation\n",
    "        (segment in direction of lower values)\n",
    "    max_steps : integer (or empty string for infinity)\n",
    "        maximum number of segmentation steps to take for each seed list\n",
    "    background_value : integer or float\n",
    "        background value\n",
    "    verbose : bool\n",
    "        print statements?\n",
    "\n",
    "    Returns\n",
    "    -------\n",
    "    segments : numpy array of integers\n",
    "        region numbers for all vertices"
   ]
  },
  {
   "cell_type": "code",
   "execution_count": null,
   "metadata": {
    "collapsed": true,
    "deletable": true,
    "editable": true
   },
   "outputs": [],
   "source": [
    "# Example without seed lists:\n",
    "import numpy as np\n",
    "from mindboggle.guts.segment import segment_regions\n",
    "from mindboggle.mio.vtks import read_vtk\n",
    "from mindboggle.guts.mesh import find_neighbors\n",
    "from mindboggle.mio.fetch_data import prep_tests\n",
    "background_value = -1\n",
    "urls, fetch_data = prep_tests()\n",
    "depth_file = fetch_data(urls['left_travel_depth'], '', '.vtk')\n",
    "f1,f2,f3, faces, depths, f4, npoints, t5 = read_vtk(depth_file, True, True)\n",
    "vertices_to_segment = np.where(depths > 0.50)[0].tolist()  # (sped up)\n",
    "neighbor_lists = find_neighbors(faces, npoints)\n",
    "segments = segment_regions(vertices_to_segment, neighbor_lists)\n",
    "len_segments = [len(np.where(segments == x)[0]) \n",
    "                for x in np.unique(segments) \n",
    "                if x != background_value]\n",
    "len_segments[0:10]"
   ]
  },
  {
   "cell_type": "markdown",
   "metadata": {
    "deletable": true,
    "editable": true
   },
   "source": [
    "Write results to vtk file and view:"
   ]
  },
  {
   "cell_type": "code",
   "execution_count": null,
   "metadata": {
    "collapsed": true,
    "deletable": true,
    "editable": true
   },
   "outputs": [],
   "source": [
    "from mindboggle.mio.plots import plot_surfaces\n",
    "from mindboggle.mio.vtks import rewrite_scalars\n",
    "rewrite_scalars(depth_file, 'segment_regions_no_seeds.vtk', segments, 'segments', [], -1)\n",
    "plot_surfaces('segment_regions_no_seeds.vtk')"
   ]
  },
  {
   "cell_type": "markdown",
   "metadata": {
    "deletable": true,
    "editable": true
   },
   "source": [
    "<a id=\"example6\"></a>\n",
    "### Example 6:  Extract sulcus label borders.\n",
    "\n",
    "**[extract_borders](https://github.com/nipy/mindboggle/blob/master/mindboggle/guts/segment.py#L1445)** \n",
    "                    (indices, labels, neighbor_lists,\n",
    "                    ignore_values=[], return_label_pairs=False)\n",
    "\n",
    "    Label borders are the set of all vertices\n",
    "    whose neighbors do not share the same label.\n",
    "\n",
    "    Parameters\n",
    "    ----------\n",
    "    indices : list of integers\n",
    "        indices to (a subset of) vertices\n",
    "    labels : numpy array of integers\n",
    "        label numbers for all vertices\n",
    "    neighbor_lists : list of lists of integers\n",
    "        each list contains indices to neighboring vertices for each vertex\n",
    "    ignore_values : list of integers\n",
    "        integers to ignore (e.g., background)\n",
    "    return_label_pairs : bool\n",
    "        return label pairs?\n",
    "\n",
    "    Returns\n",
    "    -------\n",
    "    border_indices : list of integers\n",
    "        indices to label boundary vertices\n",
    "    border_label_tuples : list of lists of sorted pairs of integers\n",
    "        sorted label pairs\n",
    "    unique_border_label_tuples : list of sorted pairs of integers\n",
    "        unique, sorted label pairs"
   ]
  },
  {
   "cell_type": "code",
   "execution_count": null,
   "metadata": {
    "collapsed": true,
    "deletable": true,
    "editable": true
   },
   "outputs": [],
   "source": [
    "from mindboggle.guts.segment import extract_borders\n",
    "import numpy as np\n",
    "from mindboggle.guts.mesh import find_neighbors\n",
    "from mindboggle.guts.segment import extract_borders\n",
    "from mindboggle.mio.vtks import read_vtk\n",
    "from mindboggle.mio.fetch_data import prep_tests\n",
    "urls, fetch_data = prep_tests()\n",
    "label_file = fetch_data(urls['left_freesurfer_labels'], '', '.vtk')\n",
    "f1,f2,f3, faces, labels, f4, npoints, f5 = read_vtk(label_file, True, True)\n",
    "neighbor_lists = find_neighbors(faces, npoints)\n",
    "ignore_values = []\n",
    "return_label_pairs = True\n",
    "indices_borders, label_pairs, f1 = extract_borders(list(range(npoints)), labels, neighbor_lists, ignore_values, return_label_pairs)\n",
    "indices_borders[0:10]\n",
    "label_pairs[0:5]"
   ]
  },
  {
   "cell_type": "markdown",
   "metadata": {
    "deletable": true,
    "editable": true
   },
   "source": [
    "Write borders on surfaces to vtk file and view:"
   ]
  },
  {
   "cell_type": "code",
   "execution_count": null,
   "metadata": {
    "collapsed": true,
    "deletable": true,
    "editable": true
   },
   "outputs": [],
   "source": [
    "from mindboggle.mio.plots import plot_surfaces\n",
    "from mindboggle.mio.vtks import rewrite_scalars\n",
    "IDs = -1 * np.ones(npoints)\n",
    "IDs[indices_borders] = 1\n",
    "rewrite_scalars(label_file, 'extract_borders.vtk', IDs, 'borders')\n",
    "plot_surfaces('extract_borders.vtk')"
   ]
  },
  {
   "cell_type": "markdown",
   "metadata": {
    "deletable": true,
    "editable": true
   },
   "source": [
    "Write just the borders to vtk file and view:"
   ]
  },
  {
   "cell_type": "code",
   "execution_count": null,
   "metadata": {
    "collapsed": true,
    "deletable": true,
    "editable": true
   },
   "outputs": [],
   "source": [
    "rewrite_scalars(label_file, 'extract_borders_no_background.vtk', IDs, 'borders', IDs)\n",
    "plot_surfaces('extract_borders_no_background.vtk')"
   ]
  }
 ],
 "metadata": {
  "anaconda-cloud": {},
  "celltoolbar": "Raw Cell Format",
  "kernelspec": {
   "display_name": "Python 3",
   "language": "python",
   "name": "python3"
  },
  "language_info": {
   "codemirror_mode": {
    "name": "ipython",
    "version": 3
   },
   "file_extension": ".py",
   "mimetype": "text/x-python",
   "name": "python",
   "nbconvert_exporter": "python",
   "pygments_lexer": "ipython3",
   "version": "3.5.2"
  }
 },
 "nbformat": 4,
 "nbformat_minor": 0
}
